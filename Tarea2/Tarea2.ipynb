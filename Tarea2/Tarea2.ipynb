{
 "cells": [
  {
   "cell_type": "markdown",
   "metadata": {},
   "source": [
    "# Tarea 2\n",
    "# Métodos numéricos y optimización\n",
    "## Juan Pablo Herrera - 108353"
   ]
  },
  {
   "cell_type": "markdown",
   "metadata": {},
   "source": [
    "### Ejercicio 1\n",
    "\n",
    "\n",
    "Considera el siguiente programa:"
   ]
  },
  {
   "cell_type": "code",
   "execution_count": 4,
   "metadata": {},
   "outputs": [],
   "source": [
    "#include <stdio.h>\n",
    "int main(void){\n",
    "    int c;\n",
    "    c = getchar();\n",
    "    while( c != EOF){\n",
    "        putchar(c);\n",
    "        c = getchar();   \n",
    "    }\n",
    "    return 0;\n",
    "}"
   ]
  },
  {
   "cell_type": "markdown",
   "metadata": {},
   "source": [
    "1. Investiga lo que quieren decir las letras EOF. ¿Por qué se debe definir c como int?  \n",
    "\n",
    "EOF quiere decir End Of File e indica que es el fin del archivo con el que se está trabajando. Todos los archivos tienen marcado EOF cuando terminan, en el `stdin` lo indicamos como `ctrl+c`.  \n",
    "\n",
    "$c$ se debe definir como entero por que la fucnión `getchar()` devuelve un valor entero sin signo. Ese valor hace referencia al código ASCII (o depende la encriptación en que estemos) del caracter que estamos leyendo. Es igual que la función `getc(stdin)` cuando lee del `stdin`. "
   ]
  },
  {
   "cell_type": "markdown",
   "metadata": {},
   "source": [
    "### Ejercicio 2"
   ]
  },
  {
   "cell_type": "markdown",
   "metadata": {},
   "source": [
    "Modifica main para eliminar la línea:\n",
    "\n",
    "`\n",
    "c = getchar();\n",
    "`\n",
    "\n",
    "antes del while y hacer el llamado a getchar en la condición del while."
   ]
  },
  {
   "cell_type": "code",
   "execution_count": 15,
   "metadata": {},
   "outputs": [
    {
     "name": "stdout",
     "output_type": "stream",
     "text": [
      "Overwriting tarea2.c\n"
     ]
    }
   ],
   "source": [
    "%%file tarea2.c\n",
    "#include <stdio.h>\n",
    "int main(void){\n",
    "    int c;\n",
    "    while((c=getchar()) != EOF){\n",
    "        putchar(c);\n",
    "    }\n",
    "    return 0;\n",
    "}"
   ]
  },
  {
   "cell_type": "code",
   "execution_count": 17,
   "metadata": {},
   "outputs": [],
   "source": [
    "%%bash \n",
    "gcc -Wall tarea2.c -o tarea2.out"
   ]
  },
  {
   "cell_type": "markdown",
   "metadata": {},
   "source": [
    "El programa se debe ejecutar desde la tarminal para poder introducir letras y observar el funcionamiento."
   ]
  },
  {
   "cell_type": "markdown",
   "metadata": {},
   "source": [
    "### Ejercicio 3\n",
    "\n",
    "Utiliza getchar para escribir un programa que cuente el número de caracteres dado un stdin e imprima este número. Al dar enter (salto de línea) el programa termina. Por ejemplo:\n",
    "\n",
    "`$echo -e \"hola\\n\" | ./ejecutable.out`\n",
    "\n",
    "entonces el programa imprime 4  \n",
    "\n",
    "El programa se llama cuenta_letras.c y el archivo ejecutable se llama cuenta_letras.out"
   ]
  },
  {
   "cell_type": "code",
   "execution_count": 19,
   "metadata": {},
   "outputs": [
    {
     "name": "stdout",
     "output_type": "stream",
     "text": [
      "Overwriting cuenta_letras.c\n"
     ]
    }
   ],
   "source": [
    "%%file cuenta_letras.c\n",
    "\n",
    "#include <stdio.h>\n",
    "int main(void){\n",
    "    int c,i=0;\n",
    "    printf(\"Introduce un texto para contar caracteres.\\n\");\n",
    "    do{\n",
    "      c = getchar();\n",
    "      i++;\n",
    "    }while(c!=10);//c=10 indica la tecla enter en codigo ASCII\n",
    "    printf(\"El texto tiene %d caracteres.\\n\",i-1);\n",
    "    return 0;\n",
    "}"
   ]
  },
  {
   "cell_type": "code",
   "execution_count": 25,
   "metadata": {},
   "outputs": [],
   "source": [
    "%%bash\n",
    "gcc -Wall cuenta_letras.c -o cuenta_letras.out"
   ]
  },
  {
   "cell_type": "code",
   "execution_count": 27,
   "metadata": {},
   "outputs": [
    {
     "name": "stdout",
     "output_type": "stream",
     "text": [
      "Introduce un texto para contar caracteres.\n",
      "El texto tiene 4 caracteres.\n"
     ]
    }
   ],
   "source": [
    "%%bash \n",
    "echo -e \"hola\\n\" | ./cuenta_letras.out"
   ]
  },
  {
   "cell_type": "markdown",
   "metadata": {},
   "source": [
    "Si el programa se ejecuta desde la terminal cuenta las letras hasta que presionamos la tecla enter."
   ]
  },
  {
   "cell_type": "markdown",
   "metadata": {},
   "source": [
    "### Ejercicio 4\n",
    "\n",
    "Modifica el programa de 3) para que cuente el número de líneas dado un archivo de stdin:\n",
    "\n",
    "`./ejecutable.out < archivo.txt`\n",
    "\n",
    "El programa final se llama cuenta_lineas.c y esta compilado como cuenta_lineas.out. El código se presenta en la siguiete caja de código."
   ]
  },
  {
   "cell_type": "code",
   "execution_count": 32,
   "metadata": {},
   "outputs": [
    {
     "name": "stdout",
     "output_type": "stream",
     "text": [
      "Overwriting archivo.txt\n"
     ]
    }
   ],
   "source": [
    "%%file archivo.txt\n",
    "The merry old king of Katoren has died\n",
    "and there’s no heir to the throne. Six sour ministers rule the land\n",
    "and claim that they’re looking for a new king,\n",
    "but nothing happens – for seventeen years. \n",
    "Then suddenly there’s a boy standing at the door of the royal\n",
    "palace who was born on the night the king died.\n",
    "\n",
    "This boy, Stach, has firmly resolved to become the new king of Katoren and\n",
    "he asks the six ministers what he must do in order to be considered for \n",
    "the role. The ministers, afraid of losing their splendid position at court, give the\n",
    "boy seven almost impossible tasks, which can be brought to a successful\n",
    "conclusion only by one who possesses kingly attributes such as wisdom,\n",
    "courage and self-sacrifice. The six ministers are convinced that Stach will fall\n",
    "at the first hurdle, but he turns out to have an amazing amount of\n",
    "persistence and ingenuity.\n"
   ]
  },
  {
   "cell_type": "code",
   "execution_count": 28,
   "metadata": {},
   "outputs": [
    {
     "name": "stdout",
     "output_type": "stream",
     "text": [
      "Overwriting cuenta_lineas.c\n"
     ]
    }
   ],
   "source": [
    "%%file cuenta_lineas.c\n",
    "\n",
    "#include <stdio.h>\n",
    "int main(void){\n",
    "  int c, i=0;\n",
    "  do{\n",
    "    c = getchar();\n",
    "    if(c==10) i++;\n",
    "  } while(c != EOF);\n",
    "  printf(\"El archivo tiene %d lineas\\n\",i);\n",
    "  return 0;\n",
    "}\n"
   ]
  },
  {
   "cell_type": "code",
   "execution_count": 34,
   "metadata": {},
   "outputs": [],
   "source": [
    "%%bash\n",
    "gcc -Wall cuenta_lineas.c -o cuenta_lineas.out"
   ]
  },
  {
   "cell_type": "code",
   "execution_count": 35,
   "metadata": {},
   "outputs": [
    {
     "name": "stdout",
     "output_type": "stream",
     "text": [
      "El archivo tiene 15 lineas\n"
     ]
    }
   ],
   "source": [
    "%%bash \n",
    "./cuenta_lineas.out < archivo.txt"
   ]
  }
 ],
 "metadata": {
  "kernelspec": {
   "display_name": "Python 3",
   "language": "python",
   "name": "python3"
  },
  "language_info": {
   "codemirror_mode": {
    "name": "ipython",
    "version": 3
   },
   "file_extension": ".py",
   "mimetype": "text/x-python",
   "name": "python",
   "nbconvert_exporter": "python",
   "pygments_lexer": "ipython3",
   "version": "3.6.9"
  }
 },
 "nbformat": 4,
 "nbformat_minor": 4
}

{
 "cells": [
  {
   "cell_type": "markdown",
   "metadata": {},
   "source": [
    "# Tarea 2\n",
    "# Métodos numéricos y optimización\n",
    "## Juan Pablo Herrera - 108353"
   ]
  },
  {
   "cell_type": "markdown",
   "metadata": {},
   "source": [
    "### Ejercicio 1\n",
    "\n",
    "\n",
    "Considera el siguiente programa:"
   ]
  },
  {
   "cell_type": "code",
   "execution_count": 4,
   "metadata": {},
   "outputs": [],
   "source": [
    "#include <stdio.h>\n",
    "int main(void){\n",
    "    int c;\n",
    "    c = getchar();\n",
    "    while( c != EOF){\n",
    "        putchar(c);\n",
    "        c = getchar();   \n",
    "    }\n",
    "    return 0;\n",
    "}"
   ]
  },
  {
   "cell_type": "markdown",
   "metadata": {},
   "source": [
    "1. Investiga lo que quieren decir las letras EOF. ¿Por qué se debe definir c como int?  \n",
    "\n",
    "EOF quiere decir End Of File e indica que es el fin del archivo con el que se está trabajando. Todos los archivos tienen marcado EOF cuando terminan, en el `stdin` lo indicamos como `ctrl+c`.  \n",
    "\n",
    "$c$ se debe definir como entero por que la fucnión `getchar()` devuelve un valor entero sin signo. Ese valor hace referencia al código ASCII (o depende la encriptación en que estemos) del caracter que estamos leyendo. Es igual que la función `getc(stdin)` cuando lee del `stdin`. "
   ]
  },
  {
   "cell_type": "markdown",
   "metadata": {},
   "source": [
    "### Ejercicio 2"
   ]
  },
  {
   "cell_type": "markdown",
   "metadata": {},
   "source": [
    "Modifica main para eliminar la línea:\n",
    "\n",
    "`\n",
    "c = getchar();\n",
    "`\n",
    "\n",
    "antes del while y hacer el llamado a getchar en la condición del while.\n",
    "\n",
    "El código final queda de la siguiente manera, se necesita compilarlo y correrlo fuera de jupyter para ver como trabaja. El código está guardado en el archivo tarea2.c y el ejecutable tiene el nombre de tarea2"
   ]
  },
  {
   "cell_type": "code",
   "execution_count": 6,
   "metadata": {},
   "outputs": [],
   "source": [
    "#include <stdio.h>\n",
    "int main(void){\n",
    "    int c;\n",
    "    while((c=getchar()) != EOF){\n",
    "        putchar(c);\n",
    "        //c = getchar();\n",
    "    }\n",
    "    return 0;\n",
    "}"
   ]
  },
  {
   "cell_type": "markdown",
   "metadata": {},
   "source": [
    "### Ejercicio 3\n",
    "\n",
    "Utiliza getchar para escribir un programa que cuente el número de caracteres dado un stdin e imprima este número. Al dar enter (salto de línea) el programa termina. Por ejemplo:\n",
    "\n",
    "$echo -e \"hola\\n\" | ./ejecutable.out\n",
    "\n",
    "entonces el programa imprime 4  \n",
    "\n",
    "El programa se llama cuenta_letras.c y el archivo ejecutable se llama cuenta_letras.out"
   ]
  },
  {
   "cell_type": "code",
   "execution_count": null,
   "metadata": {},
   "outputs": [
    {
     "name": "stdout",
     "output_type": "stream",
     "text": [
      "Introduce un texto para contar caracteres.\n"
     ]
    }
   ],
   "source": [
    "#include <stdio.h>\n",
    "\n",
    "int main(void){\n",
    "    int c,i=0;\n",
    "    printf(\"Introduce un texto para contar caracteres.\\n\");\n",
    "    do{\n",
    "      c = getchar();\n",
    "      i++;\n",
    "    }while(c!=10);//c=10 indica la tecla enter en codigo ASCII\n",
    "    printf(\"El texto tiene %d caracteres.\\n\",i-1);\n",
    "    return 0;\n",
    "}"
   ]
  },
  {
   "cell_type": "markdown",
   "metadata": {},
   "source": [
    "### Ejercicio 4\n",
    "\n",
    "Modifica el programa de 3) para que cuente el número de líneas dado un archivo de stdin:\n",
    "\n",
    "./ejecutable.out < archivo.txt\n",
    "\n",
    "El programa final se llama cuenta_lineas.c y esta compilado como cuenta_lineas.out. El código se presenta en la siguiete caja de código."
   ]
  },
  {
   "cell_type": "code",
   "execution_count": null,
   "metadata": {},
   "outputs": [],
   "source": [
    "#include <stdio.h>\n",
    "\n",
    "int main(void){\n",
    "  int c, i=0;\n",
    "  do{\n",
    "    c = getchar();\n",
    "    if(c==10) i++;\n",
    "  } while(c != EOF);\n",
    "  printf(\"El archivo tiene %d lineas\\n\",i);\n",
    "  return 0;\n",
    "}\n"
   ]
  }
 ],
 "metadata": {
  "kernelspec": {
   "display_name": "C",
   "language": "c",
   "name": "c"
  },
  "language_info": {
   "file_extension": ".c",
   "mimetype": "text/plain",
   "name": "c"
  }
 },
 "nbformat": 4,
 "nbformat_minor": 4
}

{
 "cells": [
  {
   "cell_type": "markdown",
   "metadata": {},
   "source": [
    "# Tarea 5\n",
    "# Métodos numéricos y optimización\n",
    "## Juan Pablo Herrera - 108353"
   ]
  },
  {
   "cell_type": "code",
   "execution_count": 1,
   "metadata": {},
   "outputs": [
    {
     "name": "stdout",
     "output_type": "stream",
     "text": [
      "Get:1 http://security.ubuntu.com/ubuntu bionic-security InRelease [88.7 kB]\n",
      "Hit:2 http://archive.ubuntu.com/ubuntu bionic InRelease\n",
      "Get:3 http://archive.ubuntu.com/ubuntu bionic-updates InRelease [88.7 kB]\n",
      "Get:4 http://archive.ubuntu.com/ubuntu bionic-backports InRelease [74.6 kB]\n",
      "Get:5 http://archive.ubuntu.com/ubuntu bionic-updates/main amd64 Packages [1149 kB]\n",
      "Get:6 http://archive.ubuntu.com/ubuntu bionic-updates/universe amd64 Packages [1360 kB]\n",
      "Fetched 2760 kB in 4s (751 kB/s)\n",
      "Reading package lists...\n",
      "Reading package lists...\n",
      "Building dependency tree...\n",
      "Reading state information...\n",
      "libblas-dev is already the newest version (3.7.1-4ubuntu1).\n",
      "liblapack-dev is already the newest version (3.7.1-4ubuntu1).\n",
      "0 upgraded, 0 newly installed, 0 to remove and 46 not upgraded.\n"
     ]
    }
   ],
   "source": [
    "%%bash\n",
    "sudo apt-get update\n",
    "sudo apt-get -y install libblas-dev liblapack-dev"
   ]
  },
  {
   "cell_type": "markdown",
   "metadata": {},
   "source": [
    "### Pregunta 1\n",
    "**Estudia y entiende los archivos `definiciones.h` y `funciones.c` de ahí, en particular investiga por que se usan `\" \"` en la línea que tiene ̣`#include` en `funciones.c` en lugar de usar `< >`. Investiga el uso de `static` en la definición de variables externas de `funciones.c` .**\n",
    "\n",
    "En `definiciones.h` se definen expresiones que nos permiten acceder a los valores que están dentro de una estructura de acuerdo al tipo de estructura que tenemos, ya sea una estructura en dos dimensiones o un vector.\n",
    "En `funcione.c`s se definen las funciones que se tienen para definir e imprimir una matriz y un vector. Las funciones de inicialización leen los valores de la estructura desde un archivo y los guardan usando las expresiones entrada definidas en definiciones, pasan el nombre (identificador) de estructura como parámetro.\n",
    "Las funciones imprime imprimen las estructuras.  \n",
    "\n",
    "\n",
    "En C, cuando se usa la sentencia #include se debe de poner `\" \"` para que el compilador busque el archivo indicado dentro de la ruta en la que estamos trabajando. Se utiliza la notación ^`< >` cuando quremos que el compilador busque el paquete dentro de la ruta establecida para los directorios estandar del sistema.  \n",
    "\n",
    "El comando static se puede utilizar de dos maneras:\n",
    "* **Definir variables `static` dentro de una función.** Esto hará que el valor de la variable se guarde entre invocaciones a la función. Cuando la función se termine de ejectura cualquier variable no `static` definida dentro de la función perderá el valor incluso cuando la función se vuelva a invocar, en las variables `static` es posible conservar y acceder a esa valor de nuevo al invocar la función. La posición de memoria en la que se guarda el valor es estétiaca.\n",
    "* **En un ambiente global** también es posible definir variables y funciones `static`. Estas solamente estará accesibles desde el archivo en el que fueron creadas. Si se tiene un programa que ocuopa otros módulos o programas, no podemos acceder a una variable o función `static`definida en uno de nuestros archivos desde otro programa. Si en un archivo está el main y en otro está una función definida como static no es posible accesarla, tendrá que ser a partir de otra función dentro del mimso archivo. Un uso de esto es para control de accesos."
   ]
  },
  {
   "cell_type": "markdown",
   "metadata": {},
   "source": [
    "### Pregunta 2\n",
    "\n",
    "2. **Investiga* sobre BLAS, CBLAS, LAPACK, ATLAS y las operaciones de nivel 1, nivel 2 y nivel 3 de BLAS y reporta sobre esta investigación que realizas. Es una investigación que contiene principalmente una descripción sobre los paquetes y niveles anteriores.**\n",
    "\n",
    "**BLAS**\n",
    "BLAS (Basic Linear Algebra Subprograms) es un conjunto de funciones estándar de álgebra lineal para hacer operaciones con matrices y vectores. BLAS es muy común, eficiente y fácil de acceder, lo que lo hace muy utilizable al desarrollar software que ocupa operaciones de álgebra lineal. Originalmente está escrito en Fortran 77 y la documentación la encontramos en Netlib.\n",
    "\n",
    "**CBLAS** es la interfaz de referencia del lenguaje C para BLAS\n",
    "\n",
    "**ATLAS** (Automatically Tuned Linear Algebra Software) Es un softaware de distribución libre con implementaciones que proporciona una API de BLAS para C y fortran 77. ATLAS permite generar una librería de BLAS optimizada para los recursos que tiene la máquina en la que se está corriendo el código.\n",
    "\n",
    "Tiene 3 niveles de operaciones que se distinguen por el tipo de operaciones que realizan:\n",
    "* Nivel 1 - Soporta operaciones entre escalares, vectores con escalares y vectores con vectores.\n",
    "* Nivel 2 - Soporta operaciones entre vectores y matrices.\n",
    "* Nivel 3 - Soporta operaciones entre matrices y matrices.\n",
    "Todos los niveles soportan operaciones de precisión sencilla, doble y números complejos en precisión sencilla y doble.\n",
    "\n",
    "Las rutinas que cada nivel tiene son las siguientes:\n",
    "1. Nivel 1\n",
    "* Setup y aplicación de la rotación Givens y la rotación Givens modificada.\n",
    "* Escalar vectores\n",
    "* Copiar y cambiar vectores\n",
    "* Aplicar el producto punto\n",
    "* Calcular la norma euclidiana\n",
    "* Sumar los valores absolutos\n",
    "* Encontrar el índice del máximo\n",
    "\n",
    "2. Nivel 2\n",
    "* Multiplicación de matriz por vector\n",
    "* Multiplicar matrices simétricas y vectores\n",
    "* Solución de problemas de matrices triangulares\n",
    "* Hacer la operación de rank 1\n",
    "* Hacer la operación de rank 2\n",
    "En los tres casos se tienen funciones para matrices comunes, para matrices de banda y matrices en formato \"empacado\" (packed)\n",
    "\n",
    "3. Nivel 3\n",
    "* Multiplicación de matriz con matriz\n",
    "* Multiplicación de matrices simétricas\n",
    "* Actualización simétrica de rank-k a una matriz\n",
    "* Actualización simétrica de rank-2k a una matriz\n",
    "* Multiplicación de matrices triangulares\n",
    "* Solución de matrices triangulares con lado derecho\n",
    "\n",
    "**LAPACK** (Linear Algebra PACKage) es un paquete escrito en fortran 90 para realizar operaciones de álgebra lineal. La meta de LAPACK es hacer los paquetes EISPACK y LINPACK eficientes al usar procesamiento en paralelo. LAPACK está escrito para aprovechar al máximo la eficiencia de BLAS, hace uso de sus subrutinas de nivel 3 constantemente.\n",
    "Las rutinas de LAPACK permiten resolver los siguientes problemas:\n",
    "* Sistemas de ecuaciones lineales\n",
    "* Mínimos cuadrados\n",
    "* Problemas de eigenvalores y eigenvectores\n",
    "* Factorización de matrices (LU, Cholesky, QR, SVD, Shur, generalized Shur)\n",
    "* Estimar número de condición\n",
    "Se pueden operar matrices densas y en bandas (no matrices \"sparse\") con presición sencilla y doble, para número reales o complejos.\n"
   ]
  },
  {
   "cell_type": "markdown",
   "metadata": {},
   "source": [
    "### Pregunta 3\n",
    "\n",
    "3. **En la carpeta analisis-numerico-computo-cientifico/C/BLAS/ejemplos/level1/ ejecuta el programa dot_product.c y realiza pruebas con diferentes vectores definidos por ti.**  \n",
    "\n",
    "El programa realiza la operación de producto punto entre dos vectores que alimentamos por medio de los archivos **v1.txt** y **v2.txt**. Es necesario pasar como parámetro al programa el número de dimensiones que tienen los vectores a operar. Si los vectores tiene diferentes dimensiones el programa rellena de ceros. Si pasamos un número de dimensiones como parámetro que no corresponde a la dimensión de los vectores entonces el programa opera como si ambos vectores tuvieran el número de entradas que pasamos como parámetro.\n"
   ]
  },
  {
   "cell_type": "code",
   "execution_count": 8,
   "metadata": {},
   "outputs": [
    {
     "name": "stdout",
     "output_type": "stream",
     "text": [
      "Overwriting dot_product.c\n"
     ]
    }
   ],
   "source": [
    "%%file dot_product.c\n",
    "\n",
    "#include<stdio.h>\n",
    "#include<stdlib.h>\n",
    "#include\"definiciones.h\"\n",
    "#define v1_vector \"v1.txt\" //de tamaño Nx1\n",
    "#define v2_vector \"v2.txt\" //de tamaño Nx1\n",
    "extern double ddot_(int *n, double *x, int *incx, double *y, int *incy);\n",
    "int main(int argc, char *argv[]){\n",
    "\tarreglo_1d_T v1, v2;\n",
    "\tdouble resultado;\n",
    "\tint incx=1;\n",
    "\tint N=atoi(argv[1]);\n",
    "\n",
    "\tv1=malloc(sizeof(*v1));\n",
    "\tv2=malloc(sizeof(*v2));\n",
    "\n",
    "\trenglones_vector(v1)=N;\n",
    "\trenglones_vector(v2)=N;\n",
    "\n",
    "\tentradas_vector(v1)=malloc(N*sizeof(double));\n",
    "\tinicializa_vector(v1,v1_vector);\n",
    "\tentradas_vector(v2)=malloc(N*sizeof(double));\n",
    "\tinicializa_vector(v2,v2_vector);\n",
    "\n",
    "\tprintf(\"------------\\n\");\n",
    "\tprintf(\"vector :\\n\");\n",
    "\timprime_vector(v1);\n",
    "\tprintf(\"------------\\n\");\n",
    "\tprintf(\"vector :\\n\");\n",
    "\timprime_vector(v2);\n",
    "\tprintf(\"------------\\n\");\n",
    "\n",
    "\tresultado=ddot_(&N, entradas_vector(v1), &incx, entradas_vector(v2), &incx);\n",
    "\tprintf(\"resultado: %lf\\n\", resultado);\n",
    "\tfree(entradas_vector(v1));\n",
    "\tfree(v1);\n",
    "\tfree(entradas_vector(v2));\n",
    "\tfree(v2);\n",
    "\treturn 0;\n",
    "}"
   ]
  },
  {
   "cell_type": "code",
   "execution_count": 9,
   "metadata": {},
   "outputs": [
    {
     "name": "stdout",
     "output_type": "stream",
     "text": [
      "Overwriting funciones.c\n"
     ]
    }
   ],
   "source": [
    "%%file funciones.c\n",
    "\n",
    "#include<stdio.h>\n",
    "#include<stdlib.h>\n",
    "#include\"definiciones.h\"\n",
    "static int i,j;\n",
    "void inicializa_matriz(arreglo_2d_T p, char *s){\n",
    "\tint m = renglones(p);\n",
    "\tint n = columnas(p);\n",
    "\tFILE * pFile;\n",
    "  \tpFile = fopen (s,\"r\");\n",
    "  \tfor(i=0;i<m;i++)\n",
    "\t\tfor(j=0;j<n;j++)\n",
    "\t\t\tfscanf(pFile,\"%lf\", &entrada(p,i,j));\n",
    "\tfclose(pFile);\n",
    "}\n",
    "void inicializa_vector(arreglo_1d_T p, char *s){\n",
    "\tint m = renglones_vector(p);\n",
    "\tFILE * pFile;\n",
    "  \tpFile = fopen (s,\"r\");\n",
    "  \tfor(i=0;i<m;i++)\n",
    "\t\t\tfscanf(pFile,\"%lf\", &entrada_vector(p,i));\n",
    "\tfclose(pFile);\n",
    "}\n",
    "void imprime_matriz(arreglo_2d_T p){\n",
    "\tint m = renglones(p);\n",
    "\tint n = columnas(p);\n",
    "\t\tfor(i=0;i<m;i++){\n",
    "\t\t\tfor(j=0;j<n;j++){\n",
    "\t\t\t\tif(j<n-1)\n",
    "\t\t\t\tprintf(\"matriz[%d][%d]=%.5f\\t\",i,j,entrada(p,i,j));\n",
    "\t\t\t\telse\n",
    "\t\t\t\tprintf(\"matriz[%d][%d]=%.5f\\n\",i,j,entrada(p,i,j));\n",
    "\t\t\t}\n",
    "\t\t}\n",
    "}\n",
    "void imprime_vector_entero(arreglo_1d_T p){\n",
    "\tint m = renglones_vector(p);\n",
    "\t\tfor(i=0;i<m;i++)\n",
    "\t\t\t\tprintf(\"vector[%d]=%d\\n\",i,entrada_vector_entero(p,i));\n",
    "}\n",
    "void imprime_vector(arreglo_1d_T p){\n",
    "\tint m = renglones_vector(p);\n",
    "\t\t\tfor(i=0;i<m;i++)\n",
    "\t\t\t\tprintf(\"vector[%d]=%.5f\\n\",i,entrada_vector(p,i));\n",
    "}\n"
   ]
  },
  {
   "cell_type": "code",
   "execution_count": 10,
   "metadata": {},
   "outputs": [
    {
     "name": "stdout",
     "output_type": "stream",
     "text": [
      "Overwriting definiciones.h\n"
     ]
    }
   ],
   "source": [
    "%%file definiciones.h\n",
    "\n",
    "//arreglo2d:\n",
    "typedef struct{\n",
    "int m, n;\n",
    "#define renglones(arreglo) ((arreglo)->m)\n",
    "#define columnas(arreglo) ((arreglo)->n)\n",
    "double *arr;\n",
    "#define entradas(arreglo) ((arreglo)->arr)\n",
    "#define entrada(arreglo,i,j) ((arreglo)->arr[j*renglones(arreglo)+i]) //almacenamos column major\n",
    "}arreglo_2d;\n",
    "typedef arreglo_2d *arreglo_2d_T;\n",
    "\n",
    "//arreglo1d\n",
    "typedef struct{\n",
    "int n;\n",
    "#define renglones_vector(arreglo) ((arreglo)->n)\n",
    "double *arr;\n",
    "int *arr_int;\n",
    "#define entradas_vector(arreglo) ((arreglo)->arr)\n",
    "#define entrada_vector(arreglo,i) ((arreglo)->arr[i])\n",
    "#define entradas_vector_entero(arreglo) ((arreglo)->arr_int)\n",
    "#define entrada_vector_entero(arreglo,i) ((arreglo)->arr_int[i])\n",
    "}arreglo_1d;\n",
    "typedef arreglo_1d *arreglo_1d_T;\n",
    "\n",
    "//funciones\n",
    "void imprime_vector(arreglo_1d_T);\n",
    "void imprime_matriz(arreglo_2d_T);\n",
    "void inicializa_matriz(arreglo_2d_T, char *);\n",
    "void inicializa_vector(arreglo_1d_T, char *);\n",
    "void imprime_vector_entero(arreglo_1d_T);\n"
   ]
  },
  {
   "cell_type": "code",
   "execution_count": 3,
   "metadata": {},
   "outputs": [],
   "source": [
    "%%bash \n",
    "gcc -Wall dot_product.c funciones.c -o programa.out -lblas"
   ]
  },
  {
   "cell_type": "code",
   "execution_count": 4,
   "metadata": {},
   "outputs": [
    {
     "name": "stdout",
     "output_type": "stream",
     "text": [
      "------------\n",
      "vector :\n",
      "vector[0]=1.00000\n",
      "vector[1]=0.00000\n",
      "vector[2]=3.00000\n",
      "------------\n",
      "vector :\n",
      "vector[0]=2.00000\n",
      "vector[1]=1.00000\n",
      "vector[2]=-3.00000\n",
      "------------\n",
      "resultado: -7.000000\n"
     ]
    }
   ],
   "source": [
    "%%bash \n",
    "./programa.out 3"
   ]
  },
  {
   "cell_type": "markdown",
   "metadata": {},
   "source": [
    "4. **Investiga* sobre la subrutina de Fortran ddot (parámetros que recibe y la salida).**  \n",
    "La subrutina `ddot` de fortran tiene la función principal de llamar a la función `ddot` que calcula el producto punto entre dos vectores. Recibe los siguientes parámetros de entrada:\n",
    "\n",
    "* n -> N- número de dimensiones que tiene el vector.\n",
    "* x -> DX - arreglo de dimensión N\n",
    "* incx -> INCX - incremento en X, espaciado entre las entradas del vector DX.\n",
    "* y -> DY - vector Y de N dimensiones.\n",
    "* incy -> INCY - incremento en el vector y.\n",
    "* dot - Resultado que regresa la subrutina. Es el resultado de llamar a la función ddot con los 4 parámetros mencionados anteriormente. Es un número de doble precisión.\n"
   ]
  },
  {
   "cell_type": "markdown",
   "metadata": {},
   "source": [
    "5. Haz un programa que utilice la subrutina `daxpy` de Fortran.\n",
    "\n",
    "La subrutina `daxpy` hace una multipĺicación de un vector por un escalar y suma el resultado con otro vector. "
   ]
  },
  {
   "cell_type": "code",
   "execution_count": 5,
   "metadata": {},
   "outputs": [
    {
     "name": "stdout",
     "output_type": "stream",
     "text": [
      "Overwriting daxpy.c\n"
     ]
    }
   ],
   "source": [
    "%%file daxpy.c\n",
    "\n",
    "#include<stdio.h>\n",
    "#include<stdlib.h>\n",
    "#include\"definiciones.h\"\n",
    "#define v1_vector \"v1.txt\" //de tamaño Nx1\n",
    "#define v2_vector \"v2.txt\" //de tamaño Nx1  \n",
    "extern double daxpy_(int *n, double *da, double *x, int *incx, double *y, int *incy);\n",
    "int main(int argc, char *argv[]){\n",
    "\tarreglo_1d_T v1, v2;\n",
    "\tdouble resultado;\n",
    "\tint incx=1;\n",
    "\tint N=atoi(argv[1]);\n",
    "  double alpha=atoi(argv[2]);\n",
    "\n",
    "\tv1=malloc(sizeof(*v1));\n",
    "\tv2=malloc(sizeof(*v2));\n",
    "\n",
    "\trenglones_vector(v1)=N;\n",
    "\trenglones_vector(v2)=N;\n",
    "\n",
    "\tentradas_vector(v1)=malloc(N*sizeof(double));\n",
    "\tinicializa_vector(v1,v1_vector);\n",
    "\tentradas_vector(v2)=malloc(N*sizeof(double));\n",
    "\tinicializa_vector(v2,v2_vector);\n",
    "\n",
    "\tprintf(\"------------\\n\");\n",
    "\tprintf(\"vector :\\n\");\n",
    "\timprime_vector(v1);\n",
    "\tprintf(\"------------\\n\");\n",
    "\tprintf(\"vector :\\n\");\n",
    "\timprime_vector(v2);\n",
    "\tprintf(\"------------\\n\");\n",
    "\n",
    "\tresultado=daxpy_(&N, &alpha, entradas_vector(v1), &incx, entradas_vector(v2), &incx);\n",
    "\tprintf(\"resultado: %lf\\n\", resultado);\n",
    "\tfree(entradas_vector(v1));\n",
    "\tfree(v1);\n",
    "\tfree(entradas_vector(v2));\n",
    "\tfree(v2);\n",
    "\treturn 0;\n",
    "}\n"
   ]
  },
  {
   "cell_type": "code",
   "execution_count": 6,
   "metadata": {},
   "outputs": [],
   "source": [
    "%%bash \n",
    "gcc -Wall daxpy.c funciones.c -o prog.out -lblas"
   ]
  },
  {
   "cell_type": "code",
   "execution_count": 7,
   "metadata": {},
   "outputs": [
    {
     "name": "stdout",
     "output_type": "stream",
     "text": [
      "------------\n",
      "vector :\n",
      "vector[0]=1.00000\n",
      "vector[1]=0.00000\n",
      "vector[2]=3.00000\n",
      "------------\n",
      "vector :\n",
      "vector[0]=2.00000\n",
      "vector[1]=1.00000\n",
      "vector[2]=-3.00000\n",
      "------------\n",
      "resultado: 9.000000\n"
     ]
    }
   ],
   "source": [
    "%%bash \n",
    "./prog.out 3 4 "
   ]
  }
 ],
 "metadata": {
  "kernelspec": {
   "display_name": "Python 3",
   "language": "python",
   "name": "python3"
  },
  "language_info": {
   "codemirror_mode": {
    "name": "ipython",
    "version": 3
   },
   "file_extension": ".py",
   "mimetype": "text/x-python",
   "name": "python",
   "nbconvert_exporter": "python",
   "pygments_lexer": "ipython3",
   "version": "3.6.9"
  }
 },
 "nbformat": 4,
 "nbformat_minor": 4
}

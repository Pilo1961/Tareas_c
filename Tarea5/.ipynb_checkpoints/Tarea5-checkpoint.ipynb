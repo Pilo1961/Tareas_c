{
 "cells": [
  {
   "cell_type": "markdown",
   "metadata": {},
   "source": [
    "# Tarea 5\n",
    "# Métodos numéricos y optimización\n",
    "## Juan Pablo Herrera - 108353"
   ]
  },
  {
   "cell_type": "markdown",
   "metadata": {},
   "source": [
    "### Pregunta 1\n",
    "**Estudia y entiende los archivos `definiciones.h` y `funciones.c` de ahí, en particular investiga por que se usan `\" \"` en la línea que tiene ̣`#include` en `funciones.c` en lugar de usar `< >`. Investiga el uso de `static` en la definición de variables externas de `funciones.c` .**\n",
    "\n",
    "En `definiciones.h` se definen expresiones que nos permiten acceder a los valores que están dentro de una estructura de acuerdo al tipo de estructura que tenemos, ya sea una estructura en dos dimensiones o un vector.\n",
    "En `funcione.c`s se definen las funciones que se tienen para definir e imprimir una matriz y un vector. Las funciones de inicialización leen los valores de la estructura desde un archivo y los guardan usando las expresiones entrada definidas en definiciones, pasan el nombre (identificador) de estructura como parámetro.\n",
    "Las funciones imprime imprimen las estructuras.  \n",
    "\n",
    "\n",
    "En C, cuando se usa la sentencia #include se debe de poner `\" \"` para que el compilador busque el archivo indicado dentro de la ruta en la que estamos trabajando. Se utiliza la notación ^`< >` cuando quremos que el compilador busque el paquete dentro de la ruta establecida para los directorios estandar del sistema.  \n",
    "\n",
    "El comando static se puede utilizar de dos maneras:\n",
    "* **Definir variables `static` dentro de una función.** Esto hará que el valor de la variable se guarde entre invocaciones a la función. Cuando la función se termine de ejectura cualquier variable no `static` definida dentro de la función perderá el valor incluso cuando la función se vuelva a invocar, en las variables `static` es posible conservar y acceder a esa valor de nuevo al invocar la función. La posición de memoria en la que se guarda el valor es estétiaca.\n",
    "* **En un ambiente global** también es posible definir variables y funciones `static`. Estas solamente estará accesibles desde el archivo en el que fueron creadas. Si se tiene un programa que ocuopa otros módulos o programas, no podemos acceder a una variable o función `static`definida en uno de nuestros archivos desde otro programa. Si en un archivo está el main y en otro está una función definida como static no es posible accesarla, tendrá que ser a partir de otra función dentro del mimso archivo. Un uso de esto es para control de accesos."
   ]
  },
  {
   "cell_type": "markdown",
   "metadata": {},
   "source": [
    "### Pregunta 2\n",
    "\n",
    "2. **Investiga* sobre BLAS, CBLAS, LAPACK, ATLAS y las operaciones de nivel 1, nivel 2 y nivel 3 de BLAS y reporta sobre esta investigación que realizas. Es una investigación que contiene principalmente una descripción sobre los paquetes y niveles anteriores.**\n",
    "\n",
    "**BLAS**\n",
    "BLAS (Basic Linear Algebra Subprograms) es un conjunto de funciones estándar de álgebra lineal para hacer operaciones con matrices y vectores. BLAS es muy común, eficiente y fácil de acceder, lo que lo hace muy utilizable al desarrollar software que ocupa operaciones de álgebra lineal. Originalmente está escrito en Fortran 77 y la documentación la encontramos en Netlib.\n",
    "\n",
    "**CBLAS** es la interfaz de referencia del lenguaje C para BLAS\n",
    "\n",
    "**ATLAS** (Automatically Tuned Linear Algebra Software) Es un softaware de distribución libre con implementaciones que proporciona una API de BLAS para C y fortran 77. ATLAS permite generar una librería de BLAS optimizada para los recursos que tiene la máquina en la que se está corriendo el código.\n",
    "\n",
    "Tiene 3 niveles de operaciones que se distinguen por el tipo de operaciones que realizan:\n",
    "* Nivel 1 - Soporta operaciones entre escalares, vectores con escalares y vectores con vectores.\n",
    "* Nivel 2 - Soporta operaciones entre vectores y matrices.\n",
    "* Nivel 3 - Soporta operaciones entre matrices y matrices.\n",
    "Todos los niveles soportan operaciones de precisión sencilla, doble y números complejos en precisión sencilla y doble.\n",
    "\n",
    "Las rutinas que cada nivel tiene son las siguientes:\n",
    "1. Nivel 1\n",
    "* Setup y aplicación de la rotación Givens y la rotación Givens modificada.\n",
    "* Escalar vectores\n",
    "* Copiar y cambiar vectores\n",
    "* Aplicar el producto punto\n",
    "* Calcular la norma euclidiana\n",
    "* Sumar los valores absolutos\n",
    "* Encontrar el índice del máximo\n",
    "\n",
    "2. Nivel 2\n",
    "* Multiplicación de matriz por vector\n",
    "* Multiplicar matrices simétricas y vectores\n",
    "* Solución de problemas de matrices triangulares\n",
    "* Hacer la operación de rank 1\n",
    "* Hacer la operación de rank 2\n",
    "En los tres casos se tienen funciones para matrices comunes, para matrices de banda y matrices en formato \"empacado\" (packed)\n",
    "\n",
    "3. Nivel 3\n",
    "* Multiplicación de matriz con matriz\n",
    "* Multiplicación de matrices simétricas\n",
    "* Actualización simétrica de rank-k a una matriz\n",
    "* Actualización simétrica de rank-2k a una matriz\n",
    "* Multiplicación de matrices triangulares\n",
    "* Solución de matrices triangulares con lado derecho\n",
    "\n",
    "**LAPACK** (Linear Algebra PACKage) es un paquete escrito en fortran 90 para realizar operaciones de álgebra lineal. La meta de LAPACK es hacer los paquetes EISPACK y LINPACK eficientes al usar procesamiento en paralelo. LAPACK está escrito para aprovechar al máximo la eficiencia de BLAS, hace uso de sus subrutinas de nivel 3 constantemente.\n",
    "Las rutinas de LAPACK permiten resolver los siguientes problemas:\n",
    "* Sistemas de ecuaciones lineales\n",
    "* Mínimos cuadrados\n",
    "* Problemas de eigenvalores y eigenvectores\n",
    "* Factorización de matrices (LU, Cholesky, QR, SVD, Shur, generalized Shur)\n",
    "* Estimar número de condición\n",
    "Se pueden operar matrices densas y en bandas (no matrices \"sparse\") con presición sencilla y doble, para número reales o complejos.\n"
   ]
  },
  {
   "cell_type": "markdown",
   "metadata": {},
   "source": [
    "### Pregunta 3\n",
    "\n",
    "3. **En la carpeta analisis-numerico-computo-cientifico/C/BLAS/ejemplos/level1/ ejecuta el programa dot_product.c y realiza pruebas con diferentes vectores definidos por ti.**  \n",
    "\n",
    "El programa realiza la operación de producto punto entre dos vectores que alimentamos por medio de los archivos **v1.txt** y **v2.txt**. Es necesario pasar como parámetro al programa el número de dimensiones que tienen los vectores a operar. Si los vectores tiene diferentes dimensiones el programa rellena de ceros. Si pasamos un número de dimensiones como parámetro que no corresponde a la dimensión de los vectores entonces el programa opera como si ambos vectores tuvieran el número de entradas que pasamos como parámetro.\n",
    "\n",
    "El ejecutable programa.out ejecuta el programa\n",
    "La salida es la siguiente:\n",
    "\n",
    "------------  \n",
    "vector :  \n",
    "vector[0]=1.00000   \n",
    "vector[1]=0.00000   \n",
    "vector[2]=3.00000 \n",
    "\n",
    "------------\n",
    "vector :  \n",
    "vector[0]=2.00000  \n",
    "vector[1]=1.00000  \n",
    "vector[2]=-3.00000    \n",
    "\n",
    "------------  \n",
    "resultado: -7.000000\n",
    "\n"
   ]
  },
  {
   "cell_type": "code",
   "execution_count": null,
   "metadata": {},
   "outputs": [],
   "source": [
    "# Por que esta linea no corre?\n",
    "%%bash \n",
    "gcc -Wall dot_product.c funciones.c -o programa.out -lblas"
   ]
  },
  {
   "cell_type": "code",
   "execution_count": null,
   "metadata": {},
   "outputs": [],
   "source": [
    "# Por que esta linea no corre?\n",
    "%%bash \n",
    "./programa.out 3"
   ]
  },
  {
   "cell_type": "markdown",
   "metadata": {},
   "source": [
    "4. **Investiga* sobre la subrutina de Fortran ddot (parámetros que recibe y la salida).**  \n",
    "La subrutina `ddot` de fortran tiene la función principal de llamar a la función `ddot` que calcula el producto punto entre dos vectores. Recibe los siguientes parámetros de entrada:\n",
    "\n",
    "* n -> N- número de dimensiones que tiene el vector.\n",
    "* x -> DX - arreglo de dimensión N\n",
    "* incx -> INCX - incremento en X, espaciado entre las entradas del vector DX.\n",
    "* y -> DY - vector Y de N dimensiones.\n",
    "* incy -> INCY - incremento en el vector y.\n",
    "* dot - Resultado que regresa la subrutina. Es el resultado de llamar a la función ddot con los 4 parámetros mencionados anteriormente. Es un número de doble precisión.\n"
   ]
  },
  {
   "cell_type": "markdown",
   "metadata": {},
   "source": [
    "5. Haz un programa que utilice la subrutina `daxpy` de Fortran.\n",
    "\n",
    "La subrutina `daxpy` hace una multipĺicación de un vector por un escalar y suma el resultado con otro vector. \n",
    "\n",
    "El archivo compilado está en el ejecutable prog.out\n",
    "\n",
    "Al correr el programa en terminal con los mismos vectores y con $\\alpha=4$ obtenemos el siguiente resultado:\n",
    "\n",
    "------------\n",
    "vector :  \n",
    "vector[0]=1.00000  \n",
    "vector[1]=0.00000  \n",
    "vector[2]=3.00000  \n",
    "\n",
    "------------  \n",
    "vector :  \n",
    "vector[0]=2.00000  \n",
    "vector[1]=1.00000  \n",
    "vector[2]=-3.00000  \n",
    "\n",
    "------------\n",
    "resultado: 9.000000\n",
    "\n"
   ]
  },
  {
   "cell_type": "code",
   "execution_count": 18,
   "metadata": {},
   "outputs": [
    {
     "name": "stdout",
     "output_type": "stream",
     "text": [
      "Writing daxpy.c\n"
     ]
    }
   ],
   "source": [
    "%%file daxpy.c\n",
    "\n",
    "#include<stdio.h>\n",
    "#include<stdlib.h>\n",
    "#include\"definiciones.h\"\n",
    "#define v1_vector \"v1.txt\" //de tamaño Nx1\n",
    "#define v2_vector \"v2.txt\" //de tamaño Nx1  \n",
    "extern double daxpy_(int *n, double *da, double *x, int *incx, double *y, int *incy);\n",
    "int main(int argc, char *argv[]){\n",
    "\tarreglo_1d_T v1, v2;\n",
    "\tdouble resultado;\n",
    "\tint incx=1;\n",
    "\tint N=atoi(argv[1]);\n",
    "  double alpha=atoi(argv[2]);\n",
    "\n",
    "\tv1=malloc(sizeof(*v1));\n",
    "\tv2=malloc(sizeof(*v2));\n",
    "\n",
    "\trenglones_vector(v1)=N;\n",
    "\trenglones_vector(v2)=N;\n",
    "\n",
    "\tentradas_vector(v1)=malloc(N*sizeof(double));\n",
    "\tinicializa_vector(v1,v1_vector);\n",
    "\tentradas_vector(v2)=malloc(N*sizeof(double));\n",
    "\tinicializa_vector(v2,v2_vector);\n",
    "\n",
    "\tprintf(\"------------\\n\");\n",
    "\tprintf(\"vector :\\n\");\n",
    "\timprime_vector(v1);\n",
    "\tprintf(\"------------\\n\");\n",
    "\tprintf(\"vector :\\n\");\n",
    "\timprime_vector(v2);\n",
    "\tprintf(\"------------\\n\");\n",
    "\n",
    "\tresultado=daxpy_(&N, &alpha, entradas_vector(v1), &incx, entradas_vector(v2), &incx);\n",
    "\tprintf(\"resultado: %lf\\n\", resultado);\n",
    "\tfree(entradas_vector(v1));\n",
    "\tfree(v1);\n",
    "\tfree(entradas_vector(v2));\n",
    "\tfree(v2);\n",
    "\treturn 0;\n",
    "}\n"
   ]
  },
  {
   "cell_type": "code",
   "execution_count": 23,
   "metadata": {},
   "outputs": [
    {
     "name": "stderr",
     "output_type": "stream",
     "text": [
      "/usr/bin/ld: cannot find -lblas\n",
      "collect2: error: ld returned 1 exit status\n"
     ]
    },
    {
     "ename": "CalledProcessError",
     "evalue": "Command 'b'gcc -Wall daxpy.c funciones.c -o programa.out -lblas\\n'' returned non-zero exit status 1.",
     "output_type": "error",
     "traceback": [
      "\u001b[0;31m---------------------------------------------------------------------------\u001b[0m",
      "\u001b[0;31mCalledProcessError\u001b[0m                        Traceback (most recent call last)",
      "\u001b[0;32m<ipython-input-23-986f84834fb2>\u001b[0m in \u001b[0;36m<module>\u001b[0;34m\u001b[0m\n\u001b[0;32m----> 1\u001b[0;31m \u001b[0mget_ipython\u001b[0m\u001b[0;34m(\u001b[0m\u001b[0;34m)\u001b[0m\u001b[0;34m.\u001b[0m\u001b[0mrun_cell_magic\u001b[0m\u001b[0;34m(\u001b[0m\u001b[0;34m'bash'\u001b[0m\u001b[0;34m,\u001b[0m \u001b[0;34m''\u001b[0m\u001b[0;34m,\u001b[0m \u001b[0;34m'gcc -Wall daxpy.c funciones.c -o programa.out -lblas\\n'\u001b[0m\u001b[0;34m)\u001b[0m\u001b[0;34m\u001b[0m\u001b[0;34m\u001b[0m\u001b[0m\n\u001b[0m",
      "\u001b[0;32m/usr/local/lib/python3.6/dist-packages/IPython/core/interactiveshell.py\u001b[0m in \u001b[0;36mrun_cell_magic\u001b[0;34m(self, magic_name, line, cell)\u001b[0m\n\u001b[1;32m   2350\u001b[0m             \u001b[0;32mwith\u001b[0m \u001b[0mself\u001b[0m\u001b[0;34m.\u001b[0m\u001b[0mbuiltin_trap\u001b[0m\u001b[0;34m:\u001b[0m\u001b[0;34m\u001b[0m\u001b[0;34m\u001b[0m\u001b[0m\n\u001b[1;32m   2351\u001b[0m                 \u001b[0margs\u001b[0m \u001b[0;34m=\u001b[0m \u001b[0;34m(\u001b[0m\u001b[0mmagic_arg_s\u001b[0m\u001b[0;34m,\u001b[0m \u001b[0mcell\u001b[0m\u001b[0;34m)\u001b[0m\u001b[0;34m\u001b[0m\u001b[0;34m\u001b[0m\u001b[0m\n\u001b[0;32m-> 2352\u001b[0;31m                 \u001b[0mresult\u001b[0m \u001b[0;34m=\u001b[0m \u001b[0mfn\u001b[0m\u001b[0;34m(\u001b[0m\u001b[0;34m*\u001b[0m\u001b[0margs\u001b[0m\u001b[0;34m,\u001b[0m \u001b[0;34m**\u001b[0m\u001b[0mkwargs\u001b[0m\u001b[0;34m)\u001b[0m\u001b[0;34m\u001b[0m\u001b[0;34m\u001b[0m\u001b[0m\n\u001b[0m\u001b[1;32m   2353\u001b[0m             \u001b[0;32mreturn\u001b[0m \u001b[0mresult\u001b[0m\u001b[0;34m\u001b[0m\u001b[0;34m\u001b[0m\u001b[0m\n\u001b[1;32m   2354\u001b[0m \u001b[0;34m\u001b[0m\u001b[0m\n",
      "\u001b[0;32m/usr/local/lib/python3.6/dist-packages/IPython/core/magics/script.py\u001b[0m in \u001b[0;36mnamed_script_magic\u001b[0;34m(line, cell)\u001b[0m\n\u001b[1;32m    140\u001b[0m             \u001b[0;32melse\u001b[0m\u001b[0;34m:\u001b[0m\u001b[0;34m\u001b[0m\u001b[0;34m\u001b[0m\u001b[0m\n\u001b[1;32m    141\u001b[0m                 \u001b[0mline\u001b[0m \u001b[0;34m=\u001b[0m \u001b[0mscript\u001b[0m\u001b[0;34m\u001b[0m\u001b[0;34m\u001b[0m\u001b[0m\n\u001b[0;32m--> 142\u001b[0;31m             \u001b[0;32mreturn\u001b[0m \u001b[0mself\u001b[0m\u001b[0;34m.\u001b[0m\u001b[0mshebang\u001b[0m\u001b[0;34m(\u001b[0m\u001b[0mline\u001b[0m\u001b[0;34m,\u001b[0m \u001b[0mcell\u001b[0m\u001b[0;34m)\u001b[0m\u001b[0;34m\u001b[0m\u001b[0;34m\u001b[0m\u001b[0m\n\u001b[0m\u001b[1;32m    143\u001b[0m \u001b[0;34m\u001b[0m\u001b[0m\n\u001b[1;32m    144\u001b[0m         \u001b[0;31m# write a basic docstring:\u001b[0m\u001b[0;34m\u001b[0m\u001b[0;34m\u001b[0m\u001b[0;34m\u001b[0m\u001b[0m\n",
      "\u001b[0;32m</usr/local/lib/python3.6/dist-packages/decorator.py:decorator-gen-110>\u001b[0m in \u001b[0;36mshebang\u001b[0;34m(self, line, cell)\u001b[0m\n",
      "\u001b[0;32m/usr/local/lib/python3.6/dist-packages/IPython/core/magic.py\u001b[0m in \u001b[0;36m<lambda>\u001b[0;34m(f, *a, **k)\u001b[0m\n\u001b[1;32m    185\u001b[0m     \u001b[0;31m# but it's overkill for just that one bit of state.\u001b[0m\u001b[0;34m\u001b[0m\u001b[0;34m\u001b[0m\u001b[0;34m\u001b[0m\u001b[0m\n\u001b[1;32m    186\u001b[0m     \u001b[0;32mdef\u001b[0m \u001b[0mmagic_deco\u001b[0m\u001b[0;34m(\u001b[0m\u001b[0marg\u001b[0m\u001b[0;34m)\u001b[0m\u001b[0;34m:\u001b[0m\u001b[0;34m\u001b[0m\u001b[0;34m\u001b[0m\u001b[0m\n\u001b[0;32m--> 187\u001b[0;31m         \u001b[0mcall\u001b[0m \u001b[0;34m=\u001b[0m \u001b[0;32mlambda\u001b[0m \u001b[0mf\u001b[0m\u001b[0;34m,\u001b[0m \u001b[0;34m*\u001b[0m\u001b[0ma\u001b[0m\u001b[0;34m,\u001b[0m \u001b[0;34m**\u001b[0m\u001b[0mk\u001b[0m\u001b[0;34m:\u001b[0m \u001b[0mf\u001b[0m\u001b[0;34m(\u001b[0m\u001b[0;34m*\u001b[0m\u001b[0ma\u001b[0m\u001b[0;34m,\u001b[0m \u001b[0;34m**\u001b[0m\u001b[0mk\u001b[0m\u001b[0;34m)\u001b[0m\u001b[0;34m\u001b[0m\u001b[0;34m\u001b[0m\u001b[0m\n\u001b[0m\u001b[1;32m    188\u001b[0m \u001b[0;34m\u001b[0m\u001b[0m\n\u001b[1;32m    189\u001b[0m         \u001b[0;32mif\u001b[0m \u001b[0mcallable\u001b[0m\u001b[0;34m(\u001b[0m\u001b[0marg\u001b[0m\u001b[0;34m)\u001b[0m\u001b[0;34m:\u001b[0m\u001b[0;34m\u001b[0m\u001b[0;34m\u001b[0m\u001b[0m\n",
      "\u001b[0;32m/usr/local/lib/python3.6/dist-packages/IPython/core/magics/script.py\u001b[0m in \u001b[0;36mshebang\u001b[0;34m(self, line, cell)\u001b[0m\n\u001b[1;32m    243\u001b[0m             \u001b[0msys\u001b[0m\u001b[0;34m.\u001b[0m\u001b[0mstderr\u001b[0m\u001b[0;34m.\u001b[0m\u001b[0mflush\u001b[0m\u001b[0;34m(\u001b[0m\u001b[0;34m)\u001b[0m\u001b[0;34m\u001b[0m\u001b[0;34m\u001b[0m\u001b[0m\n\u001b[1;32m    244\u001b[0m         \u001b[0;32mif\u001b[0m \u001b[0margs\u001b[0m\u001b[0;34m.\u001b[0m\u001b[0mraise_error\u001b[0m \u001b[0;32mand\u001b[0m \u001b[0mp\u001b[0m\u001b[0;34m.\u001b[0m\u001b[0mreturncode\u001b[0m\u001b[0;34m!=\u001b[0m\u001b[0;36m0\u001b[0m\u001b[0;34m:\u001b[0m\u001b[0;34m\u001b[0m\u001b[0;34m\u001b[0m\u001b[0m\n\u001b[0;32m--> 245\u001b[0;31m             \u001b[0;32mraise\u001b[0m \u001b[0mCalledProcessError\u001b[0m\u001b[0;34m(\u001b[0m\u001b[0mp\u001b[0m\u001b[0;34m.\u001b[0m\u001b[0mreturncode\u001b[0m\u001b[0;34m,\u001b[0m \u001b[0mcell\u001b[0m\u001b[0;34m,\u001b[0m \u001b[0moutput\u001b[0m\u001b[0;34m=\u001b[0m\u001b[0mout\u001b[0m\u001b[0;34m,\u001b[0m \u001b[0mstderr\u001b[0m\u001b[0;34m=\u001b[0m\u001b[0merr\u001b[0m\u001b[0;34m)\u001b[0m\u001b[0;34m\u001b[0m\u001b[0;34m\u001b[0m\u001b[0m\n\u001b[0m\u001b[1;32m    246\u001b[0m \u001b[0;34m\u001b[0m\u001b[0m\n\u001b[1;32m    247\u001b[0m     \u001b[0;32mdef\u001b[0m \u001b[0m_run_script\u001b[0m\u001b[0;34m(\u001b[0m\u001b[0mself\u001b[0m\u001b[0;34m,\u001b[0m \u001b[0mp\u001b[0m\u001b[0;34m,\u001b[0m \u001b[0mcell\u001b[0m\u001b[0;34m,\u001b[0m \u001b[0mto_close\u001b[0m\u001b[0;34m)\u001b[0m\u001b[0;34m:\u001b[0m\u001b[0;34m\u001b[0m\u001b[0;34m\u001b[0m\u001b[0m\n",
      "\u001b[0;31mCalledProcessError\u001b[0m: Command 'b'gcc -Wall daxpy.c funciones.c -o programa.out -lblas\\n'' returned non-zero exit status 1."
     ]
    }
   ],
   "source": [
    "# Tampoco corre\n",
    "%%bash \n",
    "gcc -Wall daxpy.c funciones.c -o prog.out -lblas"
   ]
  },
  {
   "cell_type": "code",
   "execution_count": null,
   "metadata": {},
   "outputs": [],
   "source": [
    "%%bash \n",
    "./prog.out 3 4 "
   ]
  }
 ],
 "metadata": {
  "kernelspec": {
   "display_name": "Python 3",
   "language": "python",
   "name": "python3"
  },
  "language_info": {
   "codemirror_mode": {
    "name": "ipython",
    "version": 3
   },
   "file_extension": ".py",
   "mimetype": "text/x-python",
   "name": "python",
   "nbconvert_exporter": "python",
   "pygments_lexer": "ipython3",
   "version": "3.6.9"
  }
 },
 "nbformat": 4,
 "nbformat_minor": 4
}

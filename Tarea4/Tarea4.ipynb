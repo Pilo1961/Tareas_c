{
 "cells": [
  {
   "cell_type": "markdown",
   "metadata": {},
   "source": [
    "# Tarea 4\n",
    "# Métodos numéricos y optimización\n",
    "## Juan Pablo Herrera - 108353"
   ]
  },
  {
   "cell_type": "markdown",
   "metadata": {},
   "source": [
    "### Ejercicio 1\n",
    "\n",
    "1. Modifica la función 'longitud_string' siguiendo los pasos:\n",
    "* Que reciba un apuntador $s$ en vez de todo el string\n",
    "* Que recorra el string con la sentencia $s=s+1$"
   ]
  },
  {
   "cell_type": "code",
   "execution_count": 1,
   "metadata": {},
   "outputs": [
    {
     "name": "stdout",
     "output_type": "stream",
     "text": [
      "cadena: Hola a todos\n",
      "longitud cadena: 12\n",
      "cadena2: leer libros y revistas\n",
      "longitud cadena: 22\n"
     ]
    }
   ],
   "source": [
    "#include<stdio.h>\n",
    "#include<string.h>\n",
    "#define MAX_LONG 200\n",
    "#define CADENA_PRUEBA \"Hola a todos\"\n",
    "\n",
    "//int longitud_string(char s[]){\n",
    "int longitud_string(char *s){\n",
    "    int i;\n",
    "    i=0;\n",
    "    while(*s != '\\0'){\n",
    "        //*s='a';\n",
    "        //printf(\"%s\\n\", s);\n",
    "        s=s+1;\n",
    "        i++;\n",
    "        if(i>50){\n",
    "            printf(\"Salgo del break\");\n",
    "            break;\n",
    "        }\n",
    "    }\n",
    "return i;\n",
    "}\n",
    " \n",
    "\n",
    "int main(void){\n",
    "    char string1[] = CADENA_PRUEBA; //definición y declaracion de variable e inicializacion.\n",
    "    char string2[MAX_LONG]; //definición y declaracion.\n",
    "    printf(\"cadena: %s\\n\", string1);\n",
    "    printf(\"longitud cadena: %d\\n\", longitud_string(string1));  \n",
    "    strcpy(string2, \"leer libros y revistas\"); //inicializacion de string2\n",
    "    printf(\"cadena2: %s\\n\", string2);\n",
    "    printf(\"longitud cadena: %d\\n\", longitud_string(string2));\n",
    "return 0;\n",
    "}"
   ]
  },
  {
   "cell_type": "markdown",
   "metadata": {},
   "source": [
    "De la forma que está escrito el programa original el string se duplica en memoria, al pasarlo como argumento en la función 'longitud_string' se genera una copia en el ambiente local de la función. Al modificar el string dentro de la función no le pasa nada al strign original.  \n",
    "Haciendo la modificación se eficienta la memoria por que no se genera otra copia en memoria, el apuntador apunta hacia la dirección de memoria del string original y se recorre haciendo referencia a esa posición. Si se modifica el strign de esta manera se modifica el string original."
   ]
  },
  {
   "cell_type": "markdown",
   "metadata": {},
   "source": [
    "2. Investiga el uso de la función `scanf` para que imprima la longitud de los strings del `archivo.txt` de `stdin`"
   ]
  },
  {
   "cell_type": "code",
   "execution_count": 3,
   "metadata": {},
   "outputs": [
    {
     "name": "stdout",
     "output_type": "stream",
     "text": [
      "Overwriting archivo.txt\n"
     ]
    }
   ],
   "source": [
    "%%file archivo.txt\n",
    "hamburguesas\n",
    "permisos\n",
    "exponencialmente\n",
    "549"
   ]
  },
  {
   "cell_type": "code",
   "execution_count": 1,
   "metadata": {},
   "outputs": [
    {
     "name": "stdout",
     "output_type": "stream",
     "text": [
      "Writing longitud_palabras.c\n"
     ]
    }
   ],
   "source": [
    "%%file longitud_palabras.c\n",
    "\n",
    "#include<stdio.h>\n",
    "int longitud_string(char *s){\n",
    "    int i=0;\n",
    "    while(*s != '\\0'){\n",
    "        s++;\n",
    "        i++;\n",
    "        if(i>500){\n",
    "            printf(\"Salida forzada\");\n",
    "            break;\n",
    "        }\n",
    "    }\n",
    "return i;\n",
    "}\n",
    "\n",
    "int main(){\n",
    "    char str1[100];\n",
    "    int i=0;\n",
    "    printf(\"Longitud de las cadenas en el archivo:\\n\" );\n",
    "\n",
    "    while(scanf(\"%s\", str1)!=EOF){\n",
    "        printf(\"%s: %d \\n\", str1,longitud_string(str1));\n",
    "        i++;\n",
    "        if(i>500){\n",
    "            printf(\"Salida forzada\");\n",
    "            break;\n",
    "        }\n",
    "    }\n",
    "}"
   ]
  },
  {
   "cell_type": "code",
   "execution_count": 2,
   "metadata": {},
   "outputs": [],
   "source": [
    "%%bash \n",
    "gcc -Wall longitud_palabras.c -o longitud_palabras.out"
   ]
  },
  {
   "cell_type": "code",
   "execution_count": 4,
   "metadata": {},
   "outputs": [
    {
     "name": "stdout",
     "output_type": "stream",
     "text": [
      "Longitud de las cadenas en el archivo:\n",
      "hamburguesas: 12 \n",
      "permisos: 8 \n",
      "exponencialmente: 16 \n",
      "549: 3 \n"
     ]
    }
   ],
   "source": [
    "%%bash \n",
    "./longitud_palabras.out < archivo.txt"
   ]
  },
  {
   "cell_type": "markdown",
   "metadata": {},
   "source": [
    "### Ejercicio 2"
   ]
  },
  {
   "cell_type": "markdown",
   "metadata": {},
   "source": [
    "Copia el texto a un archivo y modifica el programa para que haga lo siguiente: \n",
    "\n",
    "El código está almacenado en el archivo tarea4ej2.c y compilado en t4-2.out, tiene todas las modificiaciones hechas y los cambios comentados.\n",
    "\n",
    "1. Modifica el programa para que imprima sólo aquellas líneas que tienen más de 80 caracteres.\n",
    "\n",
    "Se incluye el siguiente código dentro del ciclo `while` que lee las líneas en la función `main`:  \n",
    "\n",
    "`\n",
    "        if( longitud > 80){\n",
    "            printf(\"%s \\n\",linea);\n",
    "            copia();\n",
    "        }\n",
    "`\n",
    "\n"
   ]
  },
  {
   "cell_type": "code",
   "execution_count": 6,
   "metadata": {},
   "outputs": [
    {
     "name": "stdout",
     "output_type": "stream",
     "text": [
      "Overwriting archivo2.txt\n"
     ]
    }
   ],
   "source": [
    "%%file archivo2.txt\n",
    "The merry old king of Katoren has died\n",
    "and there’s no heir to the throne. Six sour ministers rule the land\n",
    "and claim that they’re looking for a new king,\n",
    "but nothing happens – for seventeen years. \n",
    "Then suddenly there’s a boy standing at the door of the royal\n",
    "palace who was born on the night the king died.\n",
    "\n",
    "This boy, Stach, has firmly resolved to become the new king of Katoren and\n",
    "he asks the six ministers what he must do in order to be considered for \n",
    "the role. The ministers, afraid of losing their splendid position at court, give the\n",
    "boy seven almost impossible tasks, which can be brought to a successful\n",
    "conclusion only by one who possesses kingly attributes such as wisdom,\n",
    "courage and self-sacrifice. The six ministers are convinced that Stach will fall\n",
    "at the first hurdle, but he turns out to have an amazing amount of\n",
    "persistence and ingenuity."
   ]
  },
  {
   "cell_type": "code",
   "execution_count": 26,
   "metadata": {},
   "outputs": [
    {
     "name": "stdout",
     "output_type": "stream",
     "text": [
      "Overwriting prog1.c\n"
     ]
    }
   ],
   "source": [
    "%%file prog1.c\n",
    "#include<stdio.h>\n",
    "#define MAXLINEA 1000 /*máximo tamaño de una línea*/\n",
    "/*definición de variables externas*/\n",
    "int max;\n",
    "char linea[MAXLINEA];\n",
    "char linea_max[MAXLINEA];\n",
    " \n",
    "/*Prototipo de funciones:*/\n",
    " \n",
    "int obtenlinea(void); \n",
    "void copia(void);\n",
    " \n",
    "/*imprime la línea con tamaño más grande*/\n",
    "int main(void){\n",
    "    int longitud;\n",
    "    extern int max;\n",
    "    extern char linea_max[MAXLINEA];\n",
    "    max=0;\n",
    "    while((longitud = obtenlinea()) > 0){\n",
    "        if( longitud > max){\n",
    "            max = longitud;\n",
    "            copia();\n",
    "        }\n",
    "        if( longitud > 80){\n",
    "            printf(\"%s \\n\",linea);\n",
    "            copia();\n",
    "        }\n",
    "    }\n",
    "    if(max > 0)\n",
    "        printf(\"linea max: %s\", linea_max);\n",
    "return 0;\n",
    "}\n",
    " \n",
    "/*obtenlinea: lee una linea en el arreglo linea, regresa longitud*/\n",
    "int obtenlinea(void){\n",
    "    int c;\n",
    "    int i;\n",
    "    extern char linea[];\n",
    "    for(i=0; i < MAXLINEA-1 && (c=getchar())!=EOF && c!= '\\n'; i++)\n",
    "        linea[i] = c;\n",
    "    if(c == '\\n'){\n",
    "        linea[i] = c;\n",
    "        i++;\n",
    "    }\n",
    "    linea[i]='\\0'; //este caracter es necesario para almacenar strings\n",
    "    return i;\n",
    "}\n",
    " \n",
    "/*copia: copia del arreglo \"linea\" al arreglo \"linea_max\"*/\n",
    "void copia(void){ \n",
    "    int i;\n",
    "    extern char linea[], linea_max[];\n",
    "    i=0;\n",
    "    while(1){\n",
    "        linea_max[i] = linea[i];\n",
    "        if(linea_max[i] == '\\0') break;\n",
    "        i++;    \n",
    "    }\n",
    "}\n"
   ]
  },
  {
   "cell_type": "code",
   "execution_count": 22,
   "metadata": {},
   "outputs": [],
   "source": [
    "%%bash \n",
    "gcc -Wall prog1.c -o prog1.out"
   ]
  },
  {
   "cell_type": "code",
   "execution_count": 23,
   "metadata": {},
   "outputs": [
    {
     "name": "stdout",
     "output_type": "stream",
     "text": [
      "the role. The ministers, afraid of losing their splendid position at court, give the\n",
      " \n",
      "courage and self-sacrifice. The six ministers are convinced that Stach will fall\n",
      " \n",
      "linea max: courage and self-sacrifice. The six ministers are convinced that Stach will fall\n"
     ]
    }
   ],
   "source": [
    "%%bash\n",
    "./prog1.out < archivo2.txt"
   ]
  },
  {
   "cell_type": "markdown",
   "metadata": {},
   "source": [
    "2. Modifica el programa para que quite los espacios de cada línea leída.\n",
    "Se incluye el siguiente código dentro del ciclo `for` que lee las líneas en la función `obtenlinea`:  \n",
    "\n",
    "`\n",
    "        if (c!=' '){\n",
    "            linea[j] = c;\n",
    "            j++;\n",
    "        }\n",
    "`\n",
    "\n",
    "Si el programa lee un espacio entonces no lo escribe en la variable línea. Es necesario introducir el contador $j$ para desfasar el número de letras escritas en variables del contador $i$ que también cuenta los espacios."
   ]
  },
  {
   "cell_type": "code",
   "execution_count": 32,
   "metadata": {},
   "outputs": [
    {
     "name": "stdout",
     "output_type": "stream",
     "text": [
      "Overwriting prog2.c\n"
     ]
    }
   ],
   "source": [
    "%%file prog2.c\n",
    "#include<stdio.h>\n",
    "#define MAXLINEA 1000 /*máximo tamaño de una línea*/\n",
    "/*definición de variables externas*/\n",
    "int max;\n",
    "char linea[MAXLINEA];\n",
    "char linea_max[MAXLINEA];\n",
    " \n",
    "/*Prototipo de funciones:*/\n",
    " \n",
    "int obtenlinea(void); \n",
    "void copia(void);\n",
    " \n",
    "/*imprime la línea con tamaño más grande*/\n",
    "int main(void){\n",
    "    int longitud;\n",
    "    extern int max;\n",
    "    extern char linea_max[MAXLINEA];\n",
    "    max=0;\n",
    "    while((longitud = obtenlinea()) > 0){\n",
    "        if( longitud > max){\n",
    "            max = longitud;\n",
    "            copia();\n",
    "        }\n",
    "        if( longitud > 0){\n",
    "            printf(\"%s \\n\",linea);\n",
    "            copia();\n",
    "        }\n",
    "    }\n",
    "    if(max > 0)\n",
    "        printf(\"linea max: %s\", linea_max);\n",
    "return 0;\n",
    "}\n",
    " \n",
    "/*obtenlinea: lee una linea en el arreglo linea, regresa longitud*/\n",
    "int obtenlinea(void){\n",
    "    int c;\n",
    "    int i,j=0;\n",
    "    extern char linea[];\n",
    "    for(i=0; i < MAXLINEA-1 && (c=getchar())!=EOF && c!= '\\n'; i++){\n",
    "        if (c!=' '){\n",
    "            linea[j] = c;\n",
    "            j++;\n",
    "        }\n",
    "    }\n",
    "        //linea[i] = c;\n",
    "    if(c == '\\n'){\n",
    "        linea[i] = c;\n",
    "        i++;\n",
    "    }\n",
    "    linea[i]='\\0'; //este caracter es necesario para almacenar strings\n",
    "    return i;\n",
    "}\n",
    " \n",
    "/*copia: copia del arreglo \"linea\" al arreglo \"linea_max\"*/\n",
    "void copia(void){ \n",
    "    int i;\n",
    "    extern char linea[], linea_max[];\n",
    "    i=0;\n",
    "    while(1){\n",
    "        linea_max[i] = linea[i];\n",
    "        if(linea_max[i] == '\\0') break;\n",
    "        i++;    \n",
    "    }\n",
    "}\n"
   ]
  },
  {
   "cell_type": "code",
   "execution_count": 33,
   "metadata": {},
   "outputs": [],
   "source": [
    "%%bash \n",
    "gcc -Wall prog2.c -o prog2.out"
   ]
  },
  {
   "cell_type": "code",
   "execution_count": 34,
   "metadata": {},
   "outputs": [
    {
     "name": "stdout",
     "output_type": "stream",
     "text": [
      "ThemerryoldkingofKatorenhasdied \n",
      "andthere’snoheirtothethrone.Sixsourministersruletheland \n",
      "andclaimthatthey’relookingforanewking,istersru\n",
      " \n",
      "butnothinghappens–forseventeenyears.g,ister\n",
      " \n",
      "Thensuddenlythere’saboystandingatthedooroftheroyaleland \n",
      "palacewhowasbornonthenightthekingdied.doorofthe\n",
      " \n",
      "\n",
      " \n",
      "Thisboy,Stach,hasfirmlyresolvedtobecomethenewkingofKatorenand \n",
      "heasksthesixministerswhathemustdoinordertobeconsideredfornand \n",
      "therole.Theministers,afraidoflosingtheirsplendidpositionatcourt,givethe \n",
      "boysevenalmostimpossibletasks,whichcanbebroughttoasuccessfulurt,givethe\n",
      " \n",
      "conclusiononlybyonewhopossesseskinglyattributessuchaswisdom,urt,giveth\n",
      " \n",
      "courageandself-sacrifice.ThesixministersareconvincedthatStachwillfallh\n",
      " \n",
      "atthefirsthurdle,butheturnsouttohaveanamazingamountofhatStachwillf\n",
      " \n",
      "persistenceandingenuity.rn\n",
      " \n",
      "linea max: persistenceandingenuity.rn\n"
     ]
    }
   ],
   "source": [
    "%%bash\n",
    "./prog2.out < archivo2.txt"
   ]
  },
  {
   "cell_type": "markdown",
   "metadata": {},
   "source": [
    "3. Modifica la función copia para que no use break pero todavía debe de usar el índice i.\n",
    "Se hace una modificación en el ciclo `while` de la función `copia`. La condición que se tenia en el bloque if se usa como condición del while para seguir iterando. Así la sentencia `break` ya no es necesaria.  \n",
    "\n",
    "`\n",
    "    while(linea_max[i] == '\\0'){\n",
    "        linea_max[i] = linea[i];\n",
    "        i++;\n",
    "    }\n",
    "`"
   ]
  },
  {
   "cell_type": "code",
   "execution_count": 63,
   "metadata": {},
   "outputs": [
    {
     "name": "stdout",
     "output_type": "stream",
     "text": [
      "Overwriting prog3.c\n"
     ]
    }
   ],
   "source": [
    "%%file prog3.c\n",
    "#include<stdio.h>\n",
    "#define MAXLINEA 1000 /*máximo tamaño de una línea*/\n",
    "/*definición de variables externas*/\n",
    "int max;\n",
    "char linea[MAXLINEA];\n",
    "char linea_max[MAXLINEA];\n",
    " \n",
    "/*Prototipo de funciones:*/\n",
    " \n",
    "int obtenlinea(void); \n",
    "void copia(void);\n",
    " \n",
    "/*imprime la línea con tamaño más grande*/\n",
    "int main(void){\n",
    "    int longitud;\n",
    "    extern int max;\n",
    "    extern char linea_max[MAXLINEA];\n",
    "    max=0;\n",
    "    while((longitud = obtenlinea()) > 0){\n",
    "        if( longitud > max){\n",
    "            max = longitud;\n",
    "            copia();\n",
    "        }\n",
    "        printf(\"%s \",linea);\n",
    "    }\n",
    "    if(max > 0)\n",
    "        printf(\"linea max: %s\", linea_max);\n",
    "return 0;\n",
    "}\n",
    " \n",
    "/*obtenlinea: lee una linea en el arreglo linea, regresa longitud*/\n",
    "int obtenlinea(void){\n",
    "    int c;\n",
    "    int i;\n",
    "    extern char linea[];\n",
    "    for(i=0; i < MAXLINEA-1 && (c=getchar())!=EOF && c!= '\\n'; i++)\n",
    "        linea[i] = c;\n",
    "    if(c == '\\n'){\n",
    "        linea[i] = c;\n",
    "        i++;\n",
    "    }\n",
    "    linea[i]='\\0'; //este caracter es necesario para almacenar strings\n",
    "    return i;\n",
    "}\n",
    " \n",
    "/*copia: copia del arreglo \"linea\" al arreglo \"linea_max\"*/\n",
    "void copia(void){ \n",
    "    int i;\n",
    "    extern char linea[], linea_max[];\n",
    "    i=0;\n",
    "    while(linea[i] != '\\0'){\n",
    "        linea_max[i] = linea[i];\n",
    "        i++;\n",
    "    }\n",
    "}\n"
   ]
  },
  {
   "cell_type": "code",
   "execution_count": 60,
   "metadata": {},
   "outputs": [],
   "source": [
    "%%bash \n",
    "gcc -Wall prog3.c -o prog3.out"
   ]
  },
  {
   "cell_type": "code",
   "execution_count": 61,
   "metadata": {},
   "outputs": [
    {
     "name": "stdout",
     "output_type": "stream",
     "text": [
      "The merry old king of Katoren has died\n",
      " and there’s no heir to the throne. Six sour ministers rule the land\n",
      " and claim that they’re looking for a new king,\n",
      " but nothing happens – for seventeen years. \n",
      " Then suddenly there’s a boy standing at the door of the royal\n",
      " palace who was born on the night the king died.\n",
      " \n",
      " This boy, Stach, has firmly resolved to become the new king of Katoren and\n",
      " he asks the six ministers what he must do in order to be considered for \n",
      " the role. The ministers, afraid of losing their splendid position at court, give the\n",
      " boy seven almost impossible tasks, which can be brought to a successful\n",
      " conclusion only by one who possesses kingly attributes such as wisdom,\n",
      " courage and self-sacrifice. The six ministers are convinced that Stach will fall\n",
      " at the first hurdle, but he turns out to have an amazing amount of\n",
      " persistence and ingenuity.\n",
      " linea max: the role. The ministers, afraid of losing their splendid position at court, give the\n"
     ]
    }
   ],
   "source": [
    "%%bash\n",
    "./prog3.out < archivo2.txt"
   ]
  },
  {
   "cell_type": "markdown",
   "metadata": {},
   "source": [
    "4. Modifica la función copia para que no use índices y sólo apuntadores.\n",
    "El código modificado queda de la siguiente manera. Se inican dos apuntadores, un en la variable `linea` y el otro en `linea_max`. Se recorre `linea` hasta encontrar el final del string. \n",
    "\n",
    "`\n",
    "void copia(void){\n",
    "    char *i,*j;\n",
    "    extern char linea[], linea_max[];\n",
    "    i=&linea[0];\n",
    "    j=&linea_max[0];\n",
    "    while(*i != '\\0'){\n",
    "        *j = *i;\n",
    "        i++;\n",
    "        j++;\n",
    "    }\n",
    "}\n",
    "`\n"
   ]
  },
  {
   "cell_type": "code",
   "execution_count": 64,
   "metadata": {},
   "outputs": [
    {
     "name": "stdout",
     "output_type": "stream",
     "text": [
      "Writing prog4.c\n"
     ]
    }
   ],
   "source": [
    "%%file prog4.c\n",
    "#include<stdio.h>\n",
    "#define MAXLINEA 1000 /*máximo tamaño de una línea*/\n",
    "/*definición de variables externas*/\n",
    "int max;\n",
    "char linea[MAXLINEA];\n",
    "char linea_max[MAXLINEA];\n",
    " \n",
    "/*Prototipo de funciones:*/\n",
    " \n",
    "int obtenlinea(void); \n",
    "void copia(void);\n",
    " \n",
    "/*imprime la línea con tamaño más grande*/\n",
    "int main(void){\n",
    "    int longitud;\n",
    "    extern int max;\n",
    "    extern char linea_max[MAXLINEA];\n",
    "    max=0;\n",
    "    while((longitud = obtenlinea()) > 0){\n",
    "        if( longitud > max){\n",
    "            max = longitud;\n",
    "            copia();\n",
    "        }\n",
    "        printf(\"%s \",linea);\n",
    "    }\n",
    "    if(max > 0)\n",
    "        printf(\"linea max: %s\", linea_max);\n",
    "return 0;\n",
    "}\n",
    " \n",
    "/*obtenlinea: lee una linea en el arreglo linea, regresa longitud*/\n",
    "int obtenlinea(void){\n",
    "    int c;\n",
    "    int i;\n",
    "    extern char linea[];\n",
    "    for(i=0; i < MAXLINEA-1 && (c=getchar())!=EOF && c!= '\\n'; i++)\n",
    "        linea[i] = c;\n",
    "    if(c == '\\n'){\n",
    "        linea[i] = c;\n",
    "        i++;\n",
    "    }\n",
    "    linea[i]='\\0'; //este caracter es necesario para almacenar strings\n",
    "    return i;\n",
    "}\n",
    " \n",
    "/*copia: copia del arreglo \"linea\" al arreglo \"linea_max\"*/\n",
    "void copia(void){\n",
    "    char *i,*j;\n",
    "    extern char linea[], linea_max[];\n",
    "    i=&linea[0];\n",
    "    j=&linea_max[0];\n",
    "    while(*i != '\\0'){\n",
    "        *j = *i;\n",
    "        i++;\n",
    "        j++;\n",
    "    }\n",
    "}\n"
   ]
  },
  {
   "cell_type": "code",
   "execution_count": 65,
   "metadata": {},
   "outputs": [],
   "source": [
    "%%bash \n",
    "gcc -Wall prog4.c -o prog4.out"
   ]
  },
  {
   "cell_type": "code",
   "execution_count": 68,
   "metadata": {},
   "outputs": [
    {
     "name": "stdout",
     "output_type": "stream",
     "text": [
      "The merry old king of Katoren has died\n",
      " and there’s no heir to the throne. Six sour ministers rule the land\n",
      " and claim that they’re looking for a new king,\n",
      " but nothing happens – for seventeen years. \n",
      " Then suddenly there’s a boy standing at the door of the royal\n",
      " palace who was born on the night the king died.\n",
      " \n",
      " This boy, Stach, has firmly resolved to become the new king of Katoren and\n",
      " he asks the six ministers what he must do in order to be considered for \n",
      " the role. The ministers, afraid of losing their splendid position at court, give the\n",
      " boy seven almost impossible tasks, which can be brought to a successful\n",
      " conclusion only by one who possesses kingly attributes such as wisdom,\n",
      " courage and self-sacrifice. The six ministers are convinced that Stach will fall\n",
      " at the first hurdle, but he turns out to have an amazing amount of\n",
      " persistence and ingenuity.\n",
      " linea max: the role. The ministers, afraid of losing their splendid position at court, give the\n"
     ]
    }
   ],
   "source": [
    "%%bash\n",
    "./prog4.out < archivo2.txt"
   ]
  },
  {
   "cell_type": "markdown",
   "metadata": {},
   "source": [
    "5. Escribe una función voltea que reciba un string s e imprima el string s al revés. Añade esta función para que el programa lea líneas y las imprima volteadas.\n",
    "La función voltea queda de la siguiente manera:  \n",
    "\n",
    "`\n",
    "void voltea(int longitud){\n",
    "    extern char linea[];\n",
    "    char linea_volteada[longitud];\n",
    "    int i;\n",
    "    for(i=0;i<=longitud;i++){\n",
    "        linea_volteada[longitud-i-1]=linea[i];\n",
    "    }\n",
    "    linea_volteada[longitud+1]='\\0';\n",
    "    printf(\"%s \\n\",linea_volteada);\n",
    "}\n",
    "`"
   ]
  },
  {
   "cell_type": "code",
   "execution_count": 74,
   "metadata": {},
   "outputs": [
    {
     "name": "stdout",
     "output_type": "stream",
     "text": [
      "Overwriting prog5.c\n"
     ]
    }
   ],
   "source": [
    "%%file prog5.c\n",
    "#include<stdio.h>\n",
    "#define MAXLINEA 1000 /*máximo tamaño de una línea*/\n",
    "/*definición de variables externas*/\n",
    "int max;\n",
    "char linea[MAXLINEA];\n",
    "char linea_max[MAXLINEA];\n",
    " \n",
    "/*Prototipo de funciones:*/\n",
    " \n",
    "int obtenlinea(void); \n",
    "void copia(void);\n",
    "void voltea(int longitud);\n",
    " \n",
    "/*imprime la línea con tamaño más grande*/\n",
    "int main(void){\n",
    "    int longitud;\n",
    "    extern int max;\n",
    "    extern char linea_max[MAXLINEA];\n",
    "    max=0;\n",
    "    while((longitud = obtenlinea()) > 0){\n",
    "        if( longitud > max){\n",
    "            max = longitud;\n",
    "            copia();\n",
    "        }\n",
    "        voltea(longitud);\n",
    "        \n",
    "    }\n",
    "    if(max > 0)\n",
    "        printf(\"linea max: %s\", linea_max);\n",
    "return 0;\n",
    "}\n",
    " \n",
    "/*obtenlinea: lee una linea en el arreglo linea, regresa longitud*/\n",
    "int obtenlinea(void){\n",
    "    int c;\n",
    "    int i;\n",
    "    extern char linea[];\n",
    "    for(i=0; i < MAXLINEA-1 && (c=getchar())!=EOF && c!= '\\n'; i++)\n",
    "        linea[i] = c;\n",
    "    if(c == '\\n'){\n",
    "        linea[i] = c;\n",
    "        i++;\n",
    "    }\n",
    "    linea[i]='\\0'; //este caracter es necesario para almacenar strings\n",
    "    return i;\n",
    "}\n",
    " \n",
    "/*copia: copia del arreglo \"linea\" al arreglo \"linea_max\"*/\n",
    "void copia(void){\n",
    "    char *i,*j;\n",
    "    extern char linea[], linea_max[];\n",
    "    i=&linea[0];\n",
    "    j=&linea_max[0];\n",
    "    while(*i != '\\0'){\n",
    "        *j = *i;\n",
    "        i++;\n",
    "        j++;\n",
    "    }\n",
    "}\n",
    "\n",
    "void voltea(int longitud){\n",
    "    extern char linea[];\n",
    "    char linea_volteada[longitud];\n",
    "    int i;\n",
    "    for(i=0;i<=longitud;i++){\n",
    "        linea_volteada[longitud-i-1]=linea[i];\n",
    "    }\n",
    "    linea_volteada[longitud+1]='\\0';\n",
    "    printf(\"%s\",linea_volteada);\n",
    "}"
   ]
  },
  {
   "cell_type": "code",
   "execution_count": 75,
   "metadata": {},
   "outputs": [],
   "source": [
    "%%bash \n",
    "gcc -Wall prog5.c -o prog5.out"
   ]
  },
  {
   "cell_type": "code",
   "execution_count": 76,
   "metadata": {},
   "outputs": [
    {
     "name": "stdout",
     "output_type": "stream",
     "text": [
      "\n",
      "deid sah nerotaK fo gnik dlo yrrem ehT\n",
      "dnal eht elur sretsinim ruos xiS .enorht eht ot rieh on s���ereht dnaT\n",
      ",gnik wen a rof gnikool er���yeht taht mialc dnat\n",
      " .sraey neetneves rof ��� sneppah gnihton tub\n",
      "layor eht fo rood eht ta gnidnats yob a s���ereht ylneddus nehT\n",
      ".deid gnik eht thgin eht no nrob saw ohw ecalap\n",
      " \n",
      "dna nerotaK fo gnik wen eht emoceb ot devloser ylmrif sah ,hcatS ,yob sihTc\n",
      " rof deredisnoc eb ot redro ni od tsum eh tahw sretsinim xis eht sksa ehh\n",
      "eht evig ,truoc ta noitisop didnelps rieht gnisol fo diarfa ,sretsinim ehT .elor ehta\n",
      "lufsseccus a ot thguorb eb nac hcihw ,sksat elbissopmi tsomla neves yobh\n",
      ",modsiw sa hcus setubirtta ylgnik sessessop ohw eno yb ylno noisulcnocb\n",
      "llaf lliw hcatS taht decnivnoc era sretsinim xis ehT .ecifircas-fles dna egaruocu\n",
      "fo tnuoma gnizama na evah ot tuo snrut eh tub ,eldruh tsrif eht tac\n",
      ".ytiunegni dna ecnetsisrepclinea max: the role. The ministers, afraid of losing their splendid position at court, give the\n"
     ]
    }
   ],
   "source": [
    "%%bash\n",
    "./prog5.out < archivo2.txt"
   ]
  },
  {
   "cell_type": "markdown",
   "metadata": {},
   "source": [
    "6. Qué efecto tiene escribir extern para la declaración de variables dentro de main(), getline() y copia()?  \n",
    "Extern permite a la función buscar variables que están definidas en el ambiente global. Si no escribimos la sentencia entonces define una variable local de ese nombre pero no está incializada y no podemos acceder a guardar o leer (según sea el caso) los valores almacenados en el ambiente global.\n"
   ]
  },
  {
   "cell_type": "markdown",
   "metadata": {},
   "source": [
    "### Ejericio 3"
   ]
  },
  {
   "cell_type": "markdown",
   "metadata": {},
   "source": [
    "El siguiente programa elimina el primer caracter de un string:  \n",
    "\n",
    "a) La funcion corta_string no hace un chequeo si el string que recibe como parámetro debe de tener al menos un caracter. Modifica esta función de modo que haga este chequeo:\n",
    "\n",
    "    Si el string tiene más de un caracter entonces devuelve el string sin el caracter inicial.\n",
    "\n",
    "    Si no se cumple lo anterior entonces devuelve un mensaje de error.\n",
    "    \n",
    "En el bloque de código se usa la función `strlen` de la libreria `string.h` para encontrar la longitud del string.\n"
   ]
  },
  {
   "cell_type": "code",
   "execution_count": 21,
   "metadata": {},
   "outputs": [
    {
     "name": "stdout",
     "output_type": "stream",
     "text": [
      "ste es el string\n"
     ]
    }
   ],
   "source": [
    "#include<stdio.h>\n",
    "#include<string.h>\n",
    "\n",
    "char *corta_string(char *apuntador){\n",
    "    if(strlen(apuntador)<=1){\n",
    "        printf(\"ERROR:  El string tiene un caracter o menos\");\n",
    "    }\n",
    "    apuntador=apuntador+1;\n",
    "    return apuntador;\n",
    "}\n",
    "\n",
    "int main(void){\n",
    "    char *s=\"\";\n",
    "    s=corta_string(s);\n",
    "    printf(\"%s\\n\",s);\n",
    " \n",
    "return 0;\n",
    "}"
   ]
  },
  {
   "cell_type": "markdown",
   "metadata": {},
   "source": [
    "b) Cómo modificas la forma en que es llamada corta_string dentro de main de modo que devuelva: verdes ?? (hay un espacio antes del string \"verdes\").  \n",
    "Se modifica el código para que llame a la función con el apuntador posicionado sobre la última letra diferente de \" \"."
   ]
  },
  {
   "cell_type": "code",
   "execution_count": 24,
   "metadata": {},
   "outputs": [
    {
     "name": "stdout",
     "output_type": "stream",
     "text": [
      " verdes\n"
     ]
    }
   ],
   "source": [
    "#include<stdio.h>\n",
    "char *corta_string(char *apuntador){\n",
    "    apuntador=apuntador+1;\n",
    "    return apuntador;\n",
    "}\n",
    "\n",
    "int main(void){\n",
    "    char *s=\"Campos verdes\";\n",
    "    while(*s!=' ')s=s+1;\n",
    "    s=corta_string(s-1);\n",
    "    printf(\"%s\\n\",s);\n",
    " \n",
    "return 0;\n",
    "}"
   ]
  },
  {
   "cell_type": "markdown",
   "metadata": {},
   "source": [
    "### Ejercicio 4"
   ]
  },
  {
   "cell_type": "markdown",
   "metadata": {},
   "source": [
    "El siguiente programa duplica un string:\n",
    "\n",
    "a) Modifica el programa para que en lugar de inicializar el string s con un tamaño 50 sea dinámica su inicialización, es decir, que no tengas que escribir 50 o algún valor definido para el tamaño del string s.  \n",
    "\n",
    "Logramo incializar el strign dejando un espacio alojado para guardar el string, ese espacio en memoria no se liberará hasta que usemos la función free.\n",
    "\n",
    "b) Escribe una función voltea_string que reciba como parámetro un char * y devuelva un char * cuya operación sea devolver un string volteado, así, al llamar voltea_string con el string Campos verdes tenemos:\n",
    "\n",
    "sedrev sopmaC\n",
    "\n",
    "El prototipo de voltea_string es:\n",
    "\n",
    "char *voltea_string(char *s);\n",
    "\n",
    "Utiliza malloc."
   ]
  },
  {
   "cell_type": "code",
   "execution_count": 1,
   "metadata": {},
   "outputs": [
    {
     "name": "stdout",
     "output_type": "stream",
     "text": [
      "Writing programa.c\n"
     ]
    }
   ],
   "source": [
    "%%file programa.c\n",
    "#include<stdio.h>\n",
    "#include<stdlib.h>\n",
    "#include<string.h>\n",
    "\n",
    "char *duplica_string(char *s){  \n",
    "    char *p;\n",
    "    p = malloc(strlen(s)+1); /* sumamos uno para almacenar el caracter '\\0'*/\n",
    "        if(p!=NULL)\n",
    "        strcpy(p,s);\n",
    "    return p;\n",
    "}\n",
    "\n",
    "char *voltea_string(char *s){  \n",
    "    char *v;\n",
    "    int i,len;\n",
    "    v = malloc(strlen(s)+1); /* sumamos uno para almacenar el caracter '\\0'*/\n",
    "    len=strlen(s);\n",
    "    s=s+len-1;\n",
    "    for(i=0;i<=strlen(s)+1;i++){\n",
    "        //duda si comento el printf se queda en un ciclo, por que?\n",
    "        strncpy(v,s,1);\n",
    "        //printf(\"%s \\n\",v);  \n",
    "        s--; \n",
    "        v++;\n",
    "    }   \n",
    "    return v-len;\n",
    "}\n",
    "\n",
    "\n",
    "int main(void){\n",
    "    char *s;\n",
    "    s = (char*)malloc(1);\n",
    "    s= \"Campos verdes\";\n",
    "    printf(\"%ld \\n\",strlen(s));\n",
    "    \n",
    "    char *s_duplicado;\n",
    "    s_duplicado = duplica_string(s);\n",
    "    printf(\"%s\\n\", s_duplicado);\n",
    "    free(s_duplicado);\n",
    "\n",
    "    char *s_volteado;\n",
    "    s_volteado = voltea_string(s);\n",
    "    printf(\"%s\\n\", s_volteado);\n",
    "    free(s_volteado);\n",
    "    \n",
    "    void free(void* s);\n",
    "\n",
    "    return 0;\n",
    "}\n"
   ]
  },
  {
   "cell_type": "code",
   "execution_count": 1,
   "metadata": {},
   "outputs": [],
   "source": [
    "%%bash\n",
    "gcc -Wall programa.c -o programa.out"
   ]
  },
  {
   "cell_type": "code",
   "execution_count": 3,
   "metadata": {},
   "outputs": [
    {
     "name": "stdout",
     "output_type": "stream",
     "text": [
      "13 \n",
      "Campos verdes\n",
      "sedrev sopmaC\n"
     ]
    }
   ],
   "source": [
    "%%bash\n",
    "./programa.out"
   ]
  }
 ],
 "metadata": {
  "kernelspec": {
   "display_name": "Python 3",
   "language": "python",
   "name": "python3"
  },
  "language_info": {
   "codemirror_mode": {
    "name": "ipython",
    "version": 3
   },
   "file_extension": ".py",
   "mimetype": "text/x-python",
   "name": "python",
   "nbconvert_exporter": "python",
   "pygments_lexer": "ipython3",
   "version": "3.6.9"
  }
 },
 "nbformat": 4,
 "nbformat_minor": 4
}

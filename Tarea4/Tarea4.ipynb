{
 "cells": [
  {
   "cell_type": "markdown",
   "metadata": {},
   "source": [
    "# Tarea 4\n",
    "# Métodos numéricos y optimización\n",
    "## Juan Pablo Herrera - 108353"
   ]
  },
  {
   "cell_type": "markdown",
   "metadata": {},
   "source": [
    "### Ejercicio 1\n",
    "\n",
    "1. Modifica la función 'longitud_string' siguiendo los pasos:\n",
    "* Que reciba un apuntador $s$ en vez de todo el string\n",
    "* Que recorra el string con la sentencia $s=s+1$"
   ]
  },
  {
   "cell_type": "code",
   "execution_count": 1,
   "metadata": {},
   "outputs": [
    {
     "name": "stdout",
     "output_type": "stream",
     "text": [
      "cadena: Hola a todos\n",
      "longitud cadena: 12\n",
      "cadena2: leer libros y revistas\n",
      "longitud cadena: 22\n"
     ]
    }
   ],
   "source": [
    "#include<stdio.h>\n",
    "#include<string.h>\n",
    "#define MAX_LONG 200\n",
    "#define CADENA_PRUEBA \"Hola a todos\"\n",
    "\n",
    "//int longitud_string(char s[]){\n",
    "int longitud_string(char *s){\n",
    "    int i;\n",
    "    i=0;\n",
    "    while(*s != '\\0'){\n",
    "        //*s='a';\n",
    "        //printf(\"%s\\n\", s);\n",
    "        s=s+1;\n",
    "        i++;\n",
    "        if(i>50){\n",
    "            printf(\"Salgo del break\");\n",
    "            break;\n",
    "        }\n",
    "    }\n",
    "return i;\n",
    "}\n",
    " \n",
    "\n",
    "int main(void){\n",
    "    char string1[] = CADENA_PRUEBA; //definición y declaracion de variable e inicializacion.\n",
    "    char string2[MAX_LONG]; //definición y declaracion.\n",
    "    printf(\"cadena: %s\\n\", string1);\n",
    "    printf(\"longitud cadena: %d\\n\", longitud_string(string1));  \n",
    "    strcpy(string2, \"leer libros y revistas\"); //inicializacion de string2\n",
    "    printf(\"cadena2: %s\\n\", string2);\n",
    "    printf(\"longitud cadena: %d\\n\", longitud_string(string2));\n",
    "return 0;\n",
    "}"
   ]
  },
  {
   "cell_type": "markdown",
   "metadata": {},
   "source": [
    "De la forma que está escrito el programa original el string se duplica en memoria, al pasarlo como argumento en la función 'longitud_string' se genera una copia en el ambiente local de la función. Al modificar el string dentro de la función no le pasa nada al strign original.  \n",
    "Haciendo la modificación se eficienta la memoria por que no se genera otra copia en memoria, el apuntador apunta hacia la dirección de memoria del string original y se recorre haciendo referencia a esa posición. Si se modifica el strign de esta manera se modifica el string original."
   ]
  },
  {
   "cell_type": "markdown",
   "metadata": {},
   "source": [
    "2. Investiga el uso de la función `scanf` para que imprima la longitud de los strings del `archivo.txt` de `stdin`\n",
    "\n",
    "El codigo está guardado en el arcihvo tarea4ej1.2.c y el compilado t4-1.2.out, es necesario correrlo desde la terminal para pasarle el archivo  "
   ]
  },
  {
   "cell_type": "code",
   "execution_count": 3,
   "metadata": {},
   "outputs": [
    {
     "name": "stdout",
     "output_type": "stream",
     "text": [
      "Longitud de las cadenas en el archivo:\n"
     ]
    }
   ],
   "source": [
    "#include<stdio.h>\n",
    "\n",
    "int longitud_string(char *s){\n",
    "    int i=0;\n",
    "    while(*s != '\\0'){\n",
    "        s++;\n",
    "        i++;\n",
    "        if(i>500){\n",
    "            printf(\"Salida forzada\");\n",
    "            break;\n",
    "        }\n",
    "    }\n",
    "return i;\n",
    "}\n",
    "\n",
    "int main(){\n",
    "    char str1[100];\n",
    "    int i=0;\n",
    "    printf(\"Longitud de las cadenas en el archivo:\\n\" );\n",
    "\n",
    "    while(scanf(\"%s\", str1)!=EOF){\n",
    "        printf(\"%s: %d \\n\", str1,longitud_string(str1));\n",
    "        i++;\n",
    "        if(i>500){\n",
    "            printf(\"Salida forzada\");\n",
    "            break;\n",
    "        }\n",
    "    }\n",
    "}"
   ]
  },
  {
   "cell_type": "markdown",
   "metadata": {},
   "source": [
    "Nota: Éste código no corre en el ambiente de jupyter. Es necesario seguir los siguientes pasos para correrlo desde la terminal linux:  \n",
    "1. Copiar el código a un archivo .c (ej4.c en este ejemplo)\n",
    "2. Generar un archivo con las palabras que queremos contar las letras  \n",
    "`echo \"hamburguesas permisos exponencialmente 549\" > archivo.txt`\n",
    "3. Compilar el código y ejecutar el programa pasando el archivo como `stdin`  \n",
    "`gcc tarea4ej1.2.c -o t4-1.2.out`   \n",
    "`./t4-1.2.out < archivo.txt`\n",
    "\n",
    "La salida se muestra en la foto:  \n",
    "<img src=\"Captura de pantalla de 2020-03-08 09-08-52.png\">"
   ]
  },
  {
   "cell_type": "markdown",
   "metadata": {},
   "source": [
    "### Ejercicio 2"
   ]
  },
  {
   "cell_type": "markdown",
   "metadata": {},
   "source": [
    "Copia el texto a un archivo y modifica el programa para que haga lo siguiente: \n",
    "\n",
    "El código está almacenado en el archivo tarea4ej2.c y compilado en t4-2.out, tiene todas las modificiaciones hechas y los cambios comentados.\n",
    "\n",
    "1. Modifica el programa para que imprima sólo aquellas líneas que tienen más de 80 caracteres.\n",
    "\n",
    "Se incluye el siguiente código dentro del ciclo `while` que lee las líneas en la función `main`:  \n",
    "\n",
    "`\n",
    "        if( longitud > 80){\n",
    "            printf(\"%s \\n\",linea);\n",
    "            copia();\n",
    "        }\n",
    "`\n",
    "\n",
    "2. Modifica el programa para que quite los espacios de cada línea leída.\n",
    "Se incluye el siguiente código dentro del ciclo `for` que lee las líneas en la función `obtenlinea`:  \n",
    "\n",
    "`\n",
    "        if (c!=' '){\n",
    "            linea[j] = c;\n",
    "            j++;\n",
    "        }\n",
    "`\n",
    "\n",
    "Si el programa lee un espacio entonces no lo escribe en la variable línea. Es necesario introducir el contador $j$ para desfasar el número de letras escritas en variables del contador $i$ que también cuenta los espacios.\n",
    "\n",
    "3. Modifica la función copia para que no use break pero todavía debe de usar el índice i.\n",
    "Se hace una modificación en el ciclo `while` de la función `copia`. La condición que se tenia en el bloque if se usa como condición del while para seguir iterando. Así la sentencia `break` ya no es necesaria.  \n",
    "\n",
    "`\n",
    "    while(linea_max[i] == '\\0'){\n",
    "        linea_max[i] = linea[i];\n",
    "        i++;\n",
    "    }\n",
    "`\n",
    "4. Modifica la función copia para que no use índices y sólo apuntadores.\n",
    "El código modificado queda de la siguiente manera. Se inican dos apuntadores, un en la variable `linea` y el otro en `linea_max`. Se recorre `linea` hasta encontrar el final del string. \n",
    "\n",
    "`\n",
    "void copia(void){\n",
    "    char *i,*j;\n",
    "    extern char linea[], linea_max[];\n",
    "    i=&linea[0];\n",
    "    j=&linea_max[0];\n",
    "    while(*i != '\\0'){\n",
    "        *j = *i;\n",
    "        i++;\n",
    "        j++;\n",
    "    }\n",
    "}\n",
    "`\n",
    "\n",
    "5. Escribe una función voltea que reciba un string s e imprima el string s al revés. Añade esta función para que el programa lea líneas y las imprima volteadas.\n",
    "La función voltea queda de la siguiente manera:  \n",
    "\n",
    "`\n",
    "void voltea(int longitud){\n",
    "    extern char linea[];\n",
    "    char linea_volteada[longitud];\n",
    "    int i;\n",
    "    for(i=0;i<=longitud;i++){\n",
    "        linea_volteada[longitud-i-1]=linea[i];\n",
    "    }\n",
    "    linea_volteada[longitud+1]='\\0';\n",
    "    printf(\"%s \\n\",linea_volteada);\n",
    "}\n",
    "`\n",
    "\n",
    "6. Qué efecto tiene escribir extern para la declaración de variables dentro de main(), getline() y copia()?  \n",
    "Extern permite a la función buscar variables que están definidas en el ambiente global. Si no escribimos la sentencia entonces define una variable local de ese nombre pero no está incializada y no podemos acceder a guardar o leer (según sea el caso) los valores almacenados en el ambiente global.\n"
   ]
  },
  {
   "cell_type": "markdown",
   "metadata": {},
   "source": [
    "### Ejericio 3"
   ]
  },
  {
   "cell_type": "markdown",
   "metadata": {},
   "source": [
    "El siguiente programa elimina el primer caracter de un string:  \n",
    "\n",
    "a) La funcion corta_string no hace un chequeo si el string que recibe como parámetro debe de tener al menos un caracter. Modifica esta función de modo que haga este chequeo:\n",
    "\n",
    "    Si el string tiene más de un caracter entonces devuelve el string sin el caracter inicial.\n",
    "\n",
    "    Si no se cumple lo anterior entonces devuelve un mensaje de error.\n",
    "    \n",
    "En el bloque de código se usa la función `strlen` de la libreria `string.h` para encontrar la longitud del string.\n"
   ]
  },
  {
   "cell_type": "code",
   "execution_count": 21,
   "metadata": {},
   "outputs": [
    {
     "name": "stdout",
     "output_type": "stream",
     "text": [
      "ste es el string\n"
     ]
    }
   ],
   "source": [
    "#include<stdio.h>\n",
    "#include<string.h>\n",
    "\n",
    "char *corta_string(char *apuntador){\n",
    "    if(strlen(apuntador)<=1){\n",
    "        printf(\"ERROR:  El string tiene un caracter o menos\");\n",
    "    }\n",
    "    apuntador=apuntador+1;\n",
    "    return apuntador;\n",
    "}\n",
    "\n",
    "int main(void){\n",
    "    char *s=\"\";\n",
    "    s=corta_string(s);\n",
    "    printf(\"%s\\n\",s);\n",
    " \n",
    "return 0;\n",
    "}"
   ]
  },
  {
   "cell_type": "markdown",
   "metadata": {},
   "source": [
    "b) Cómo modificas la forma en que es llamada corta_string dentro de main de modo que devuelva: verdes ?? (hay un espacio antes del string \"verdes\").  \n",
    "Se modifica el código para que llame a la función con el apuntador posicionado sobre la última letra diferente de \" \"."
   ]
  },
  {
   "cell_type": "code",
   "execution_count": 24,
   "metadata": {},
   "outputs": [
    {
     "name": "stdout",
     "output_type": "stream",
     "text": [
      " verdes\n"
     ]
    }
   ],
   "source": [
    "#include<stdio.h>\n",
    "char *corta_string(char *apuntador){\n",
    "    apuntador=apuntador+1;\n",
    "    return apuntador;\n",
    "}\n",
    "\n",
    "int main(void){\n",
    "    char *s=\"Campos verdes\";\n",
    "    while(*s!=' ')s=s+1;\n",
    "    s=corta_string(s-1);\n",
    "    printf(\"%s\\n\",s);\n",
    " \n",
    "return 0;\n",
    "}"
   ]
  },
  {
   "cell_type": "markdown",
   "metadata": {},
   "source": [
    "### Ejercicio 4"
   ]
  },
  {
   "cell_type": "markdown",
   "metadata": {},
   "source": [
    "El siguiente programa duplica un string:\n",
    "\n",
    "a) Modifica el programa para que en lugar de inicializar el string s con un tamaño 50 sea dinámica su inicialización, es decir, que no tengas que escribir 50 o algún valor definido para el tamaño del string s.  \n",
    "\n",
    "Logramo incializar el strign dejando un espacio alojado para guardar el string, ese espacio en memoria no se liberará hasta que usemos la función free.\n",
    "\n",
    "b) Escribe una función voltea_string que reciba como parámetro un char * y devuelva un char * cuya operación sea devolver un string volteado, así, al llamar voltea_string con el string Campos verdes tenemos:\n",
    "\n",
    "sedrev sopmaC\n",
    "\n",
    "El prototipo de voltea_string es:\n",
    "\n",
    "char *voltea_string(char *s);\n",
    "\n",
    "Utiliza malloc."
   ]
  },
  {
   "cell_type": "code",
   "execution_count": 1,
   "metadata": {},
   "outputs": [
    {
     "name": "stdout",
     "output_type": "stream",
     "text": [
      "Writing programa.c\n"
     ]
    }
   ],
   "source": [
    "%%file programa.c\n",
    "#include<stdio.h>\n",
    "#include<stdlib.h>\n",
    "#include<string.h>\n",
    "\n",
    "char *duplica_string(char *s){  \n",
    "    char *p;\n",
    "    p = malloc(strlen(s)+1); /* sumamos uno para almacenar el caracter '\\0'*/\n",
    "        if(p!=NULL)\n",
    "        strcpy(p,s);\n",
    "    return p;\n",
    "}\n",
    "\n",
    "char *voltea_string(char *s){  \n",
    "    char *v;\n",
    "    int i,len;\n",
    "    v = malloc(strlen(s)+1); /* sumamos uno para almacenar el caracter '\\0'*/\n",
    "    len=strlen(s);\n",
    "    s=s+len-1;\n",
    "    for(i=0;i<=strlen(s)+1;i++){\n",
    "        //duda si comento el printf se queda en un ciclo, por que?\n",
    "        strncpy(v,s,1);\n",
    "        //printf(\"%s \\n\",v);  \n",
    "        s--; \n",
    "        v++;\n",
    "    }   \n",
    "    return v-len;\n",
    "}\n",
    "\n",
    "\n",
    "int main(void){\n",
    "    char *s;\n",
    "    s = (char*)malloc(1);\n",
    "    s= \"Campos verdes\";\n",
    "    printf(\"%ld \\n\",strlen(s));\n",
    "    \n",
    "    char *s_duplicado;\n",
    "    s_duplicado = duplica_string(s);\n",
    "    printf(\"%s\\n\", s_duplicado);\n",
    "    free(s_duplicado);\n",
    "\n",
    "    char *s_volteado;\n",
    "    s_volteado = voltea_string(s);\n",
    "    printf(\"%s\\n\", s_volteado);\n",
    "    free(s_volteado);\n",
    "    \n",
    "    void free(void* s);\n",
    "\n",
    "    return 0;\n",
    "}\n"
   ]
  },
  {
   "cell_type": "code",
   "execution_count": 1,
   "metadata": {},
   "outputs": [],
   "source": [
    "%%bash\n",
    "gcc -Wall programa.c -o programa.out"
   ]
  },
  {
   "cell_type": "code",
   "execution_count": 3,
   "metadata": {},
   "outputs": [
    {
     "name": "stdout",
     "output_type": "stream",
     "text": [
      "13 \n",
      "Campos verdes\n",
      "sedrev sopmaC\n"
     ]
    }
   ],
   "source": [
    "%%bash\n",
    "./programa.out"
   ]
  },
  {
   "cell_type": "code",
   "execution_count": null,
   "metadata": {},
   "outputs": [],
   "source": []
  }
 ],
 "metadata": {
  "kernelspec": {
   "display_name": "Python 3",
   "language": "python",
   "name": "python3"
  },
  "language_info": {
   "codemirror_mode": {
    "name": "ipython",
    "version": 3
   },
   "file_extension": ".py",
   "mimetype": "text/x-python",
   "name": "python",
   "nbconvert_exporter": "python",
   "pygments_lexer": "ipython3",
   "version": "3.6.9"
  }
 },
 "nbformat": 4,
 "nbformat_minor": 4
}

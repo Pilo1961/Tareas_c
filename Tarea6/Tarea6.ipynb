{
 "cells": [
  {
   "cell_type": "markdown",
   "metadata": {},
   "source": [
    "# Tarea 6\n",
    "# Métodos numéricos y optimización\n",
    "## Juan Pablo Herrera - 108353"
   ]
  },
  {
   "cell_type": "markdown",
   "metadata": {},
   "source": [
    "### Instrucciones\n",
    "\n",
    "Dirígite a la rama de master a la ruta analisis-numerico-computo-cientifico/C/BLAS/ejemplos/.\n",
    "\n",
    "Investiga* sobre la subrutina de Fortran dgemv (parámetros que recibe y la salida).\n",
    "\n",
    "*Para sus investigaciones utilicen las referencias de los README's:\n",
    "\n",
    "analisis-numerico-computo-cientifico/C/BLAS/\n",
    "\n",
    "analisis-numerico-computo-cientifico/C/LAPACK/\n",
    "\n",
    "La tarea se hace de forma individual y personal.\n",
    "    En la carpeta analisis-numerico-computo-cientifico/C/BLAS/ejemplos/level2/ ejecuta el programa dgemv_mult_mat_vec.c y realiza pruebas con diferentes matrices y vectores definidos por ti."
   ]
  },
  {
   "cell_type": "code",
   "execution_count": null,
   "metadata": {},
   "outputs": [],
   "source": [
    "%%bash\n",
    "sudo apt-get update\n",
    "sudo apt-get -y install libblas-dev liblapack-dev"
   ]
  },
  {
   "cell_type": "markdown",
   "metadata": {},
   "source": [
    "### Pregunta 1\n",
    "**Investiga* sobre la subrutina de Fortran dgemv (parámetros que recibe y la salida).**"
   ]
  },
  {
   "cell_type": "markdown",
   "metadata": {},
   "source": [
    "La función **dgemv** de Fortran resuelve una la operación de multiplicar un vector $x$ por una matriz $A$ y sumar otro vector $y$. A ambos operandos se les puede multiplicar por una constante nombradas como $\\alpha$ o $\\beta$. Resuelve uno de los dos siguientes casos:  \n",
    "$$\\begin{equation}\n",
    "    y=\\alpha A x + \\beta y\n",
    "    \\tag{1}\n",
    "    \\end{equation}$$ o  \n",
    "$$\\begin{equation}\n",
    "    y=\\alpha A^T X + \\beta y\n",
    "    \\tag{2}\n",
    "    \\end{equation}$$  \n",
    "\n",
    "La función recibe los siguientes argumentos:\n",
    "* TRANS (char)- Puede tomar 3 valores: 'N' para indicar que la operación a realizar es la ecuación $1$. Los valores 'T' o 'C' indican que se realizará la ecuación $2$. Las entradas pueden ser mayúsculas o minúsculas indistinamente. \n",
    "* M (int)- Especifíca el número de filas que tiene la matriz $A$. Debe de ser mayor o igual que cero.  \n",
    "* N(int)- Especifíca el número de columnas que tiene la matriz $A$. Debe de ser mayor o igual que cero.   \n",
    "* ALPHA (double)- Indica el escalar que multiplica la matriz $A$.\n",
    "* A (double)- Es un array de dimensión $(LDA,N)$. La parte $m$ por $n$ debe de contener los coeficientes de la matriz.  \n",
    "* LDA (int)- Especifíca la dimensión de $A$ como se declara en el programa que llama la función. Debe de ser com mínimo $max(1,m)$.\n",
    "* X (double)- El vector a operar. Debe de tener como mínimo las dimensiones:   \n",
    "$$(1+(n-1)*|INCX|) \\text{ when } TRANS = 'N'$$ o\n",
    "$$(1+(m-1)*|INCX|) \\text{ when } TRANS = 'C' \\text{ or } TRANS = 'T' $$   \n",
    "\n",
    "* INCX (int)- Incremento entre cada elemento consecutivo del arreglo $X$.\n",
    "* Beta (double)- Indica el escalar que multiplica al vector $Y$.\n",
    "* Y (double)- El vector a operar. Debe de tener como mínimo las dimensiones:   \n",
    "$$(1+(m-1)*|INCX|) \\text{ when } TRANS = 'N'$$ o\n",
    "$$(1+(n-1)*|INCX|) \\text{ when } TRANS = 'C' \\text{ or } TRANS = 'T' $$  \n",
    "* INCY(int)- Incremento entre cada elemento consecutivo del arreglo $Y$.  \n",
    "\n",
    "La función devuelve un vector de la misma dimensión que el arreglo $Y$"
   ]
  },
  {
   "cell_type": "markdown",
   "metadata": {},
   "source": [
    "### Pregunta 2\n",
    "**En la carpeta analisis-numerico-computo-cientifico/C/BLAS/ejemplos/level2/ ejecuta el programa dgemv_mult_mat_vec.c y realiza pruebas con diferentes matrices y vectores definidos por ti.**"
   ]
  },
  {
   "cell_type": "code",
   "execution_count": 3,
   "metadata": {},
   "outputs": [],
   "source": [
    "%%bash \n",
    "echo 1 0 > v.txt\n",
    "echo 0 1.5 >A.txt\n",
    "echo 4 -5 >> A.txt\n",
    "echo -1 2.5 >> A.txt"
   ]
  },
  {
   "cell_type": "code",
   "execution_count": 42,
   "metadata": {},
   "outputs": [
    {
     "name": "stdout",
     "output_type": "stream",
     "text": [
      "Overwriting dgemv_mult_mat_vec.c\n"
     ]
    }
   ],
   "source": [
    "%%file dgemv_mult_mat_vec.c\n",
    "#include<stdio.h>\n",
    "#include<stdlib.h>\n",
    "#include\"definiciones.h\"\n",
    "#define A_matriz \"A.txt\" //de tamaño MxN\n",
    "#define v_vector \"v.txt\" //de tamaño Nx1\n",
    "extern void dgemv_(char *transpose_a, int *m, int *n, double *alpha, double *a, int *lda, double *x, int *incx, double *beta, double *y, int *incy);\n",
    "int main(int argc, char *argv[]){\n",
    "\tarreglo_2d_T A;\n",
    "\tarreglo_1d_T v, v_resultado;\n",
    "\tint M=atoi(argv[1]);\n",
    "\tint N=atoi(argv[2]);\n",
    "\tint incx=1;\n",
    "\tdouble ALPHA, BETA;\n",
    "    ALPHA = 1.0;\n",
    "   \tBETA = 0.0;\n",
    "\tA=malloc(sizeof(*A));\n",
    "\tv=malloc(sizeof(*v));\n",
    "\tv_resultado=malloc(sizeof(*v_resultado));\n",
    "\n",
    "\trenglones(A)=M;\n",
    "\tcolumnas(A)=N;\n",
    "\trenglones_vector(v)=N;\n",
    "\trenglones_vector(v_resultado) = M;\n",
    "\tentradas(A)=malloc(renglones(A)*columnas(A)*sizeof(double));\n",
    "\tinicializa_matriz(A,A_matriz);\n",
    "\n",
    "\tentradas_vector(v)=malloc(N*sizeof(double));\n",
    "\tinicializa_vector(v,v_vector);\n",
    "\n",
    "\tentradas_vector(v_resultado)=calloc(M,sizeof(double));\n",
    "\tprintf(\"matriz 1:\\n\");\n",
    "\timprime_matriz(A);\n",
    "\tprintf(\"------------\\n\");\n",
    "\tprintf(\"vector :\\n\");\n",
    "\timprime_vector(v);\n",
    "\tprintf(\"------------\\n\");\n",
    "\tprintf(\"vector resultado:\\n\");\n",
    "\n",
    "\tdgemv_(\"No transpose\", &M, &N, &ALPHA, entradas(A), &M, entradas_vector(v), &incx, &BETA, entradas_vector(v_resultado),&incx);\n",
    "\timprime_vector(v_resultado);\n",
    "\tfree(entradas(A));\n",
    "\tfree(A);\n",
    "\tfree(entradas_vector(v));\n",
    "\tfree(v);\n",
    "\tfree(entradas_vector(v_resultado));\n",
    "\tfree(v_resultado);\n",
    "\treturn 0;\n",
    "}"
   ]
  },
  {
   "cell_type": "code",
   "execution_count": 39,
   "metadata": {},
   "outputs": [],
   "source": [
    "%%bash\n",
    "gcc -Wall dgemv_mult_mat_vec.c funciones.c -o programa.out -lblas"
   ]
  },
  {
   "cell_type": "code",
   "execution_count": 40,
   "metadata": {},
   "outputs": [
    {
     "name": "stdout",
     "output_type": "stream",
     "text": [
      "matriz 1:\n",
      "matriz[0][0]=0.00000\tmatriz[0][1]=1.50000\n",
      "matriz[1][0]=4.00000\tmatriz[1][1]=-5.00000\n",
      "matriz[2][0]=-1.00000\tmatriz[2][1]=2.50000\n",
      "------------\n",
      "vector :\n",
      "vector[0]=1.00000\n",
      "vector[1]=0.00000\n",
      "------------\n",
      "vector resultado:\n",
      "vector[0]=0.00000\n",
      "vector[1]=4.00000\n",
      "vector[2]=-1.00000\n"
     ]
    }
   ],
   "source": [
    "%%bash\n",
    "./programa.out 3 2"
   ]
  },
  {
   "cell_type": "code",
   "execution_count": 25,
   "metadata": {},
   "outputs": [],
   "source": [
    "%%bash \n",
    "echo 1 0 3 7 >> v.txt\n",
    "echo 0 1.5 >A.txt\n",
    "echo 4 -5 >> A.txt\n",
    "echo -1 2.5 >> A.txt"
   ]
  },
  {
   "cell_type": "code",
   "execution_count": 26,
   "metadata": {},
   "outputs": [
    {
     "name": "stdout",
     "output_type": "stream",
     "text": [
      "matriz 1:\n",
      "matriz[0][0]=0.00000\tmatriz[0][1]=1.50000\n",
      "matriz[1][0]=4.00000\tmatriz[1][1]=-5.00000\n",
      "matriz[2][0]=-1.00000\tmatriz[2][1]=2.50000\n",
      "------------\n",
      "vector :\n",
      "vector[0]=1.00000\n",
      "vector[1]=0.00000\n",
      "------------\n",
      "vector resultado:\n",
      "vector[0]=0.00000\n",
      "vector[1]=4.00000\n",
      "vector[2]=-1.00000\n"
     ]
    }
   ],
   "source": [
    "%%bash\n",
    "./programa.out 3 2"
   ]
  },
  {
   "cell_type": "markdown",
   "metadata": {},
   "source": [
    "Si le cambiamos las dimensiones en la entrada solamente toma en cuenta los primeros números que le alimentamos."
   ]
  },
  {
   "cell_type": "code",
   "execution_count": 28,
   "metadata": {},
   "outputs": [
    {
     "name": "stdout",
     "output_type": "stream",
     "text": [
      "matriz 1:\n",
      "matriz[0][0]=0.00000\tmatriz[0][1]=1.50000\tmatriz[0][2]=4.00000\n",
      "matriz[1][0]=-5.00000\tmatriz[1][1]=-1.00000\tmatriz[1][2]=2.50000\n",
      "matriz[2][0]=0.00000\tmatriz[2][1]=0.00000\tmatriz[2][2]=0.00000\n",
      "matriz[3][0]=0.00000\tmatriz[3][1]=0.00000\tmatriz[3][2]=0.00000\n",
      "matriz[4][0]=0.00000\tmatriz[4][1]=0.00000\tmatriz[4][2]=0.00000\n",
      "------------\n",
      "vector :\n",
      "vector[0]=1.00000\n",
      "vector[1]=0.00000\n",
      "vector[2]=3.00000\n",
      "------------\n",
      "vector resultado:\n",
      "vector[0]=12.00000\n",
      "vector[1]=2.50000\n",
      "vector[2]=0.00000\n",
      "vector[3]=0.00000\n",
      "vector[4]=0.00000\n"
     ]
    }
   ],
   "source": [
    "%%bash\n",
    "./programa.out 5 3"
   ]
  },
  {
   "cell_type": "markdown",
   "metadata": {},
   "source": [
    "Si le ponemos dimensiones mayores a los número que tenemos en los archivos rellena los espacios con ceros.  \n",
    "\n",
    "El vector de salida tiene la dimensión de las columnas de la matriz.  \n",
    "\n",
    "Hay que notar que en este ejemplo usamos el parámetro $\\beta=0$"
   ]
  },
  {
   "cell_type": "markdown",
   "metadata": {},
   "source": [
    "### Pregunta 3\n",
    "**Haz un programa que utilice la subrutina dger de Fortran.**"
   ]
  },
  {
   "cell_type": "markdown",
   "metadata": {},
   "source": [
    "La función **dger** relaiza la operación:  \n",
    "$$A:=\\alpha x y^T + A$$  \n",
    "donde $\\alpha$ es un escalar, $x$ es un vector de $m$ elementos, $y$ es un vector de $n$ elementos y $A$ es una matriz de $mxn$.  \n",
    "La función recibe los parámetros:  \n",
    "* M (int)- Filas de la matriz A  \n",
    "* N (int)- Columnas de la matriz A  \n",
    "* ALPHA (double)- Escalar que multiplica al vector $x$\n",
    "* X (double)- Arreglo de dimensión m como mínimo\n",
    "* INCX (int)- Distancia entre cada elemento de $x$\n",
    "* Y (double)- Arreglo de dimensión $n$\n",
    "* INCY (int)- Distancia entre cada elemento de $y$\n",
    "* LDA (int)- Especifíca la primera dimensión de la matriz de salida\n",
    "* A (double)- Matriz de coeficientes para sumar a la operación.\n",
    "\n",
    "La salida es la matriz $A$ de dimensiones $(LDA,N)$\n",
    "\n"
   ]
  },
  {
   "cell_type": "code",
   "execution_count": 53,
   "metadata": {},
   "outputs": [
    {
     "name": "stdout",
     "output_type": "stream",
     "text": [
      "Overwriting dger.c\n"
     ]
    }
   ],
   "source": [
    "%%file dger.c\n",
    "#include<stdio.h>\n",
    "#include<stdlib.h>\n",
    "#include\"definiciones.h\"\n",
    "#define y_vector \"y.txt\" //de tamaño Nx1\n",
    "#define x_vector \"x.txt\" //de tamaño Mx1\n",
    "\n",
    "extern void dger_(int *m, int *n, double *alpha, double *x, int *incx, double *y, int *incy, double *a, int *lda);\n",
    "int main(int argc, char *argv[]){\n",
    "\tarreglo_2d_T A;\n",
    "\tarreglo_1d_T x, y;\n",
    "\tint M=atoi(argv[1]);\n",
    "\tint N=atoi(argv[2]);\n",
    "\tint incx=1;\n",
    "\tdouble ALPHA;\n",
    "    ALPHA = 1.0;\n",
    "    \n",
    "\tA=malloc(sizeof(*A));\n",
    "\tx=malloc(sizeof(*x));\n",
    "\ty=malloc(sizeof(*y));\n",
    "\n",
    "\trenglones(A)=M;\n",
    "\tcolumnas(A)=N;\n",
    "\trenglones_vector(x)=M;\n",
    "\trenglones_vector(y) = N;\n",
    "\tentradas_vector(y)=malloc(N*sizeof(double));\n",
    "\tinicializa_vector(y,y_vector);\n",
    "\n",
    "\tentradas_vector(x)=malloc(M*sizeof(double));\n",
    "\tinicializa_vector(x,x_vector);\n",
    "\n",
    "\t\n",
    "    entradas(A)=calloc(M*N,sizeof(double));\n",
    "    printf(\"vector x:\\n\");\n",
    "\timprime_vector(x);\n",
    "\tprintf(\"------------\\n\");\n",
    "\tprintf(\"vector y:\\n\");\n",
    "\timprime_vector(y);\n",
    "\tprintf(\"------------\\n\");\n",
    "\tprintf(\"vector resultado:\\n\");\n",
    "\n",
    "\tdger_(&M, &N, &ALPHA, entradas_vector(x), &incx, entradas_vector(y),&incx, entradas(A), &M);\n",
    "\timprime_matriz(A);\n",
    "\t\n",
    "    free(entradas(A));\n",
    "\tfree(A);\n",
    "\tfree(entradas_vector(x));\n",
    "\tfree(x);\n",
    "\tfree(entradas_vector(y));\n",
    "\tfree(y);\n",
    "\treturn 0;\n",
    "}"
   ]
  },
  {
   "cell_type": "code",
   "execution_count": 54,
   "metadata": {},
   "outputs": [],
   "source": [
    "%%bash\n",
    "gcc -Wall dger.c funciones.c -o prog_dger.out -lblas"
   ]
  },
  {
   "cell_type": "code",
   "execution_count": 55,
   "metadata": {},
   "outputs": [],
   "source": [
    "%%bash \n",
    "echo 1 2 3 > x.txt\n",
    "echo 4 5 >y.txt"
   ]
  },
  {
   "cell_type": "code",
   "execution_count": 56,
   "metadata": {},
   "outputs": [
    {
     "name": "stdout",
     "output_type": "stream",
     "text": [
      "vector x:\n",
      "vector[0]=1.00000\n",
      "vector[1]=2.00000\n",
      "vector[2]=3.00000\n",
      "------------\n",
      "vector y:\n",
      "vector[0]=4.00000\n",
      "vector[1]=5.00000\n",
      "------------\n",
      "vector resultado:\n",
      "matriz[0][0]=4.00000\tmatriz[0][1]=5.00000\n",
      "matriz[1][0]=8.00000\tmatriz[1][1]=10.00000\n",
      "matriz[2][0]=12.00000\tmatriz[2][1]=15.00000\n"
     ]
    }
   ],
   "source": [
    "%%bash\n",
    "./prog_dger.out 3 2"
   ]
  },
  {
   "cell_type": "code",
   "execution_count": 57,
   "metadata": {},
   "outputs": [],
   "source": [
    "%%bash \n",
    "echo 1 2 -3 > x.txt\n",
    "echo 0 5 -7 0 1 >y.txt"
   ]
  },
  {
   "cell_type": "code",
   "execution_count": 58,
   "metadata": {},
   "outputs": [
    {
     "name": "stdout",
     "output_type": "stream",
     "text": [
      "vector x:\n",
      "vector[0]=1.00000\n",
      "vector[1]=2.00000\n",
      "vector[2]=-3.00000\n",
      "------------\n",
      "vector y:\n",
      "vector[0]=0.00000\n",
      "vector[1]=5.00000\n",
      "vector[2]=-7.00000\n",
      "vector[3]=0.00000\n",
      "vector[4]=1.00000\n",
      "------------\n",
      "vector resultado:\n",
      "matriz[0][0]=0.00000\tmatriz[0][1]=5.00000\tmatriz[0][2]=-7.00000\tmatriz[0][3]=0.00000\tmatriz[0][4]=1.00000\n",
      "matriz[1][0]=0.00000\tmatriz[1][1]=10.00000\tmatriz[1][2]=-14.00000\tmatriz[1][3]=0.00000\tmatriz[1][4]=2.00000\n",
      "matriz[2][0]=0.00000\tmatriz[2][1]=-15.00000\tmatriz[2][2]=21.00000\tmatriz[2][3]=0.00000\tmatriz[2][4]=-3.00000\n"
     ]
    }
   ],
   "source": [
    "%%bash\n",
    "./prog_dger.out 3 5"
   ]
  },
  {
   "cell_type": "code",
   "execution_count": 59,
   "metadata": {},
   "outputs": [
    {
     "name": "stdout",
     "output_type": "stream",
     "text": [
      "vector x:\n",
      "vector[0]=1.00000\n",
      "vector[1]=2.00000\n",
      "vector[2]=-3.00000\n",
      "------------\n",
      "vector y:\n",
      "------------\n",
      "vector resultado:\n"
     ]
    },
    {
     "name": "stderr",
     "output_type": "stream",
     "text": [
      "Parameter 2 to routine DGER   was incorrect\n"
     ]
    }
   ],
   "source": [
    "%%bash\n",
    "./prog_dger.out 3 -1"
   ]
  },
  {
   "cell_type": "markdown",
   "metadata": {},
   "source": [
    "Las dimensiones funcionan igual que en los ejemplos anteriores. En el caso de mandemos más dimensiones el programa llenará esas posiciones con cero. Si mandamos menos posiciones entonces el programa solamente tomará en cuenta las primeras.  \n",
    "En el ejemplo anterior observamos el caso de que una de las dos dimensiones es menor que cero, a lo que la función no arroja un error."
   ]
  },
  {
   "cell_type": "markdown",
   "metadata": {},
   "source": [
    "### Pregunta 4\n",
    "**Después de haber estudiado y entendido los archivos de definiciones.h y funciones.c y realizado los puntos anteriores y la tarea 5 responde: ¿cómo fue que pudimos llamar a las rutinas de Fortran (que almacena en una forma column-major order los arreglos de dos dimensiones) para operaciones con arreglos 2-dimensionales sin haber instalado CBLAS, si en clase se dijo que almacenar arreglos de dos dimensiones en C es en un row-major order?**\n"
   ]
  },
  {
   "cell_type": "markdown",
   "metadata": {},
   "source": [
    "### Pregunta 5 \n",
    "**Investiga* sobre la subrutina de Fortran dgemm (parámetros que recibe y la salida).**\n"
   ]
  },
  {
   "cell_type": "markdown",
   "metadata": {},
   "source": [
    "### Pregunta 6\n",
    "**En la carpeta analisis-numerico-computo-cientifico/C/BLAS/ejemplos/level3/ ejecuta el programa dgemm_mult_mat.c y realiza pruebas con diferentes matrices definidas por ti.**"
   ]
  },
  {
   "cell_type": "markdown",
   "metadata": {},
   "source": [
    "### Pregunta 7\n",
    "**En la carpeta del punto anterior encuentras la sección Multiplicación matriz-matriz con trick. Ejecuta el programa de esta sección con diferentes matrices definidas por ti y resuelve la pregunta ¿por qué funciona este trick?.**\n"
   ]
  },
  {
   "cell_type": "markdown",
   "metadata": {},
   "source": [
    "### Pregunta 8\n",
    "**Haz un programa que utilice la subrutina dsymm de Fortran.**\n",
    "\n"
   ]
  },
  {
   "cell_type": "code",
   "execution_count": null,
   "metadata": {},
   "outputs": [],
   "source": []
  }
 ],
 "metadata": {
  "kernelspec": {
   "display_name": "Python 3",
   "language": "python",
   "name": "python3"
  },
  "language_info": {
   "codemirror_mode": {
    "name": "ipython",
    "version": 3
   },
   "file_extension": ".py",
   "mimetype": "text/x-python",
   "name": "python",
   "nbconvert_exporter": "python",
   "pygments_lexer": "ipython3",
   "version": "3.6.9"
  }
 },
 "nbformat": 4,
 "nbformat_minor": 4
}

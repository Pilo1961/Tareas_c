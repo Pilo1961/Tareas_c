{
 "cells": [
  {
   "cell_type": "markdown",
   "metadata": {},
   "source": [
    "# Tarea 6\n",
    "# Métodos numéricos y optimización\n",
    "## Juan Pablo Herrera - 108353"
   ]
  },
  {
   "cell_type": "markdown",
   "metadata": {},
   "source": [
    "### Instrucciones\n",
    "\n",
    "Dirígite a la rama de master a la ruta analisis-numerico-computo-cientifico/C/BLAS/ejemplos/.\n",
    "\n",
    "Investiga* sobre la subrutina de Fortran dgemv (parámetros que recibe y la salida).\n",
    "\n",
    "*Para sus investigaciones utilicen las referencias de los README's:\n",
    "\n",
    "analisis-numerico-computo-cientifico/C/BLAS/\n",
    "\n",
    "analisis-numerico-computo-cientifico/C/LAPACK/\n",
    "\n",
    "La tarea se hace de forma individual y personal.\n",
    "    En la carpeta analisis-numerico-computo-cientifico/C/BLAS/ejemplos/level2/ ejecuta el programa dgemv_mult_mat_vec.c y realiza pruebas con diferentes matrices y vectores definidos por ti."
   ]
  },
  {
   "cell_type": "code",
   "execution_count": 1,
   "metadata": {},
   "outputs": [
    {
     "name": "stdout",
     "output_type": "stream",
     "text": [
      "Get:1 http://security.ubuntu.com/ubuntu bionic-security InRelease [88.7 kB]\n",
      "Hit:2 http://archive.ubuntu.com/ubuntu bionic InRelease\n",
      "Get:3 http://archive.ubuntu.com/ubuntu bionic-updates InRelease [88.7 kB]\n",
      "Get:4 http://archive.ubuntu.com/ubuntu bionic-backports InRelease [74.6 kB]\n",
      "Get:5 http://security.ubuntu.com/ubuntu bionic-security/universe amd64 Packages [831 kB]\n",
      "Get:6 http://archive.ubuntu.com/ubuntu bionic-updates/multiverse amd64 Packages [11.9 kB]\n",
      "Get:7 http://archive.ubuntu.com/ubuntu bionic-updates/restricted amd64 Packages [48.1 kB]\n",
      "Get:8 http://archive.ubuntu.com/ubuntu bionic-updates/universe amd64 Packages [1360 kB]\n",
      "Get:9 http://security.ubuntu.com/ubuntu bionic-security/restricted amd64 Packages [34.6 kB]\n",
      "Get:10 http://security.ubuntu.com/ubuntu bionic-security/main amd64 Packages [855 kB]\n",
      "Get:11 http://security.ubuntu.com/ubuntu bionic-security/multiverse amd64 Packages [7904 B]\n",
      "Get:12 http://archive.ubuntu.com/ubuntu bionic-updates/main amd64 Packages [1149 kB]\n",
      "Get:13 http://archive.ubuntu.com/ubuntu bionic-backports/universe amd64 Packages [4245 B]\n",
      "Fetched 4553 kB in 3s (1663 kB/s)\n",
      "Reading package lists...\n",
      "Reading package lists...\n",
      "Building dependency tree...\n",
      "Reading state information...\n",
      "The following additional packages will be installed:\n",
      "  cpp-7 g++-7 gcc-7 gcc-7-base libasan4 libblas3 libcilkrts5 libgcc-7-dev\n",
      "  libgfortran4 liblapack3 libstdc++-7-dev libubsan0\n",
      "Suggested packages:\n",
      "  gcc-7-locales g++-7-multilib gcc-7-doc libstdc++6-7-dbg gcc-7-multilib\n",
      "  libgcc1-dbg libgomp1-dbg libitm1-dbg libatomic1-dbg libasan4-dbg\n",
      "  liblsan0-dbg libtsan0-dbg libubsan0-dbg libcilkrts5-dbg libmpx2-dbg\n",
      "  libquadmath0-dbg liblapack-doc libstdc++-7-doc\n",
      "The following NEW packages will be installed:\n",
      "  libblas-dev libblas3 libgfortran4 liblapack-dev liblapack3\n",
      "The following packages will be upgraded:\n",
      "  cpp-7 g++-7 gcc-7 gcc-7-base libasan4 libcilkrts5 libgcc-7-dev\n",
      "  libstdc++-7-dev libubsan0\n",
      "9 upgraded, 5 newly installed, 0 to remove and 46 not upgraded.\n",
      "Need to get 37.1 MB of archives.\n",
      "After this operation, 26.9 MB of additional disk space will be used.\n",
      "Get:1 http://archive.ubuntu.com/ubuntu bionic-updates/main amd64 libasan4 amd64 7.5.0-3ubuntu1~18.04 [358 kB]\n",
      "Get:2 http://archive.ubuntu.com/ubuntu bionic-updates/main amd64 libubsan0 amd64 7.5.0-3ubuntu1~18.04 [126 kB]\n",
      "Get:3 http://archive.ubuntu.com/ubuntu bionic-updates/main amd64 libcilkrts5 amd64 7.5.0-3ubuntu1~18.04 [42.5 kB]\n",
      "Get:4 http://archive.ubuntu.com/ubuntu bionic-updates/main amd64 g++-7 amd64 7.5.0-3ubuntu1~18.04 [9697 kB]\n",
      "Get:5 http://archive.ubuntu.com/ubuntu bionic-updates/main amd64 gcc-7 amd64 7.5.0-3ubuntu1~18.04 [9381 kB]\n",
      "Get:6 http://archive.ubuntu.com/ubuntu bionic-updates/main amd64 libstdc++-7-dev amd64 7.5.0-3ubuntu1~18.04 [1471 kB]\n",
      "Get:7 http://archive.ubuntu.com/ubuntu bionic-updates/main amd64 libgcc-7-dev amd64 7.5.0-3ubuntu1~18.04 [2378 kB]\n",
      "Get:8 http://archive.ubuntu.com/ubuntu bionic-updates/main amd64 cpp-7 amd64 7.5.0-3ubuntu1~18.04 [8591 kB]\n",
      "Get:9 http://archive.ubuntu.com/ubuntu bionic-updates/main amd64 gcc-7-base amd64 7.5.0-3ubuntu1~18.04 [18.3 kB]\n",
      "Get:10 http://archive.ubuntu.com/ubuntu bionic/main amd64 libblas3 amd64 3.7.1-4ubuntu1 [140 kB]\n",
      "Get:11 http://archive.ubuntu.com/ubuntu bionic/main amd64 libblas-dev amd64 3.7.1-4ubuntu1 [143 kB]\n",
      "Get:12 http://archive.ubuntu.com/ubuntu bionic-updates/main amd64 libgfortran4 amd64 7.5.0-3ubuntu1~18.04 [492 kB]\n",
      "Get:13 http://archive.ubuntu.com/ubuntu bionic/main amd64 liblapack3 amd64 3.7.1-4ubuntu1 [2112 kB]\n",
      "Get:14 http://archive.ubuntu.com/ubuntu bionic/main amd64 liblapack-dev amd64 3.7.1-4ubuntu1 [2140 kB]\n",
      "Fetched 37.1 MB in 16s (2371 kB/s)\n",
      "(Reading database ... 18521 files and directories currently installed.)\n",
      "Preparing to unpack .../00-libasan4_7.5.0-3ubuntu1~18.04_amd64.deb ...\n",
      "Unpacking libasan4:amd64 (7.5.0-3ubuntu1~18.04) over (7.4.0-1ubuntu1~18.04.1) ...\n",
      "Preparing to unpack .../01-libubsan0_7.5.0-3ubuntu1~18.04_amd64.deb ...\n",
      "Unpacking libubsan0:amd64 (7.5.0-3ubuntu1~18.04) over (7.4.0-1ubuntu1~18.04.1) ...\n",
      "Preparing to unpack .../02-libcilkrts5_7.5.0-3ubuntu1~18.04_amd64.deb ...\n",
      "Unpacking libcilkrts5:amd64 (7.5.0-3ubuntu1~18.04) over (7.4.0-1ubuntu1~18.04.1) ...\n",
      "Preparing to unpack .../03-g++-7_7.5.0-3ubuntu1~18.04_amd64.deb ...\n",
      "Unpacking g++-7 (7.5.0-3ubuntu1~18.04) over (7.4.0-1ubuntu1~18.04.1) ...\n",
      "Preparing to unpack .../04-gcc-7_7.5.0-3ubuntu1~18.04_amd64.deb ...\n",
      "Unpacking gcc-7 (7.5.0-3ubuntu1~18.04) over (7.4.0-1ubuntu1~18.04.1) ...\n",
      "Preparing to unpack .../05-libstdc++-7-dev_7.5.0-3ubuntu1~18.04_amd64.deb ...\n",
      "Unpacking libstdc++-7-dev:amd64 (7.5.0-3ubuntu1~18.04) over (7.4.0-1ubuntu1~18.04.1) ...\n",
      "Preparing to unpack .../06-libgcc-7-dev_7.5.0-3ubuntu1~18.04_amd64.deb ...\n",
      "Unpacking libgcc-7-dev:amd64 (7.5.0-3ubuntu1~18.04) over (7.4.0-1ubuntu1~18.04.1) ...\n",
      "Preparing to unpack .../07-cpp-7_7.5.0-3ubuntu1~18.04_amd64.deb ...\n",
      "Unpacking cpp-7 (7.5.0-3ubuntu1~18.04) over (7.4.0-1ubuntu1~18.04.1) ...\n",
      "Preparing to unpack .../08-gcc-7-base_7.5.0-3ubuntu1~18.04_amd64.deb ...\n",
      "Unpacking gcc-7-base:amd64 (7.5.0-3ubuntu1~18.04) over (7.4.0-1ubuntu1~18.04.1) ...\n",
      "Selecting previously unselected package libblas3:amd64.\n",
      "Preparing to unpack .../09-libblas3_3.7.1-4ubuntu1_amd64.deb ...\n",
      "Unpacking libblas3:amd64 (3.7.1-4ubuntu1) ...\n",
      "Selecting previously unselected package libblas-dev:amd64.\n",
      "Preparing to unpack .../10-libblas-dev_3.7.1-4ubuntu1_amd64.deb ...\n",
      "Unpacking libblas-dev:amd64 (3.7.1-4ubuntu1) ...\n",
      "Selecting previously unselected package libgfortran4:amd64.\n",
      "Preparing to unpack .../11-libgfortran4_7.5.0-3ubuntu1~18.04_amd64.deb ...\n",
      "Unpacking libgfortran4:amd64 (7.5.0-3ubuntu1~18.04) ...\n",
      "Selecting previously unselected package liblapack3:amd64.\n",
      "Preparing to unpack .../12-liblapack3_3.7.1-4ubuntu1_amd64.deb ...\n",
      "Unpacking liblapack3:amd64 (3.7.1-4ubuntu1) ...\n",
      "Selecting previously unselected package liblapack-dev:amd64.\n",
      "Preparing to unpack .../13-liblapack-dev_3.7.1-4ubuntu1_amd64.deb ...\n",
      "Unpacking liblapack-dev:amd64 (3.7.1-4ubuntu1) ...\n",
      "Setting up gcc-7-base:amd64 (7.5.0-3ubuntu1~18.04) ...\n",
      "Setting up libblas3:amd64 (3.7.1-4ubuntu1) ...\n",
      "update-alternatives: using /usr/lib/x86_64-linux-gnu/blas/libblas.so.3 to provide /usr/lib/x86_64-linux-gnu/libblas.so.3 (libblas.so.3-x86_64-linux-gnu) in auto mode\n",
      "Processing triggers for libc-bin (2.27-3ubuntu1) ...\n",
      "Setting up libasan4:amd64 (7.5.0-3ubuntu1~18.04) ...\n",
      "Setting up libgfortran4:amd64 (7.5.0-3ubuntu1~18.04) ...\n",
      "Setting up libblas-dev:amd64 (3.7.1-4ubuntu1) ...\n",
      "update-alternatives: using /usr/lib/x86_64-linux-gnu/blas/libblas.so to provide /usr/lib/x86_64-linux-gnu/libblas.so (libblas.so-x86_64-linux-gnu) in auto mode\n",
      "Setting up libcilkrts5:amd64 (7.5.0-3ubuntu1~18.04) ...\n",
      "Setting up libubsan0:amd64 (7.5.0-3ubuntu1~18.04) ...\n",
      "Setting up liblapack3:amd64 (3.7.1-4ubuntu1) ...\n",
      "update-alternatives: using /usr/lib/x86_64-linux-gnu/lapack/liblapack.so.3 to provide /usr/lib/x86_64-linux-gnu/liblapack.so.3 (liblapack.so.3-x86_64-linux-gnu) in auto mode\n",
      "Setting up libgcc-7-dev:amd64 (7.5.0-3ubuntu1~18.04) ...\n",
      "Setting up cpp-7 (7.5.0-3ubuntu1~18.04) ...\n",
      "Setting up libstdc++-7-dev:amd64 (7.5.0-3ubuntu1~18.04) ...\n",
      "Setting up liblapack-dev:amd64 (3.7.1-4ubuntu1) ...\n",
      "update-alternatives: using /usr/lib/x86_64-linux-gnu/lapack/liblapack.so to provide /usr/lib/x86_64-linux-gnu/liblapack.so (liblapack.so-x86_64-linux-gnu) in auto mode\n",
      "Setting up gcc-7 (7.5.0-3ubuntu1~18.04) ...\n",
      "Setting up g++-7 (7.5.0-3ubuntu1~18.04) ...\n",
      "Processing triggers for libc-bin (2.27-3ubuntu1) ...\n"
     ]
    },
    {
     "name": "stderr",
     "output_type": "stream",
     "text": [
      "debconf: delaying package configuration, since apt-utils is not installed\n"
     ]
    }
   ],
   "source": [
    "%%bash\n",
    "sudo apt-get update\n",
    "sudo apt-get -y install libblas-dev liblapack-dev"
   ]
  },
  {
   "cell_type": "markdown",
   "metadata": {},
   "source": [
    "### Pregunta 1\n",
    "**Investiga* sobre la subrutina de Fortran dgemv (parámetros que recibe y la salida).**"
   ]
  },
  {
   "cell_type": "markdown",
   "metadata": {},
   "source": [
    "La función **dgemv** de Fortran resuelve una la operación de multiplicar un vector $x$ por una matriz $A$ y sumar otro vector $y$. A ambos operandos se les puede multiplicar por una constante nombradas como $\\alpha$ o $\\beta$. Resuelve uno de los dos siguientes casos:  \n",
    "$$\\begin{equation}\n",
    "    y=\\alpha A x + \\beta y\n",
    "    \\tag{1}\n",
    "    \\end{equation}$$ o  \n",
    "$$\\begin{equation}\n",
    "    y=\\alpha A^T X + \\beta y\n",
    "    \\tag{2}\n",
    "    \\end{equation}$$  \n",
    "\n",
    "La función recibe los siguientes argumentos:\n",
    "* TRANS (char)- Puede tomar 3 valores: 'N' para indicar que la operación a realizar es la ecuación $1$. Los valores 'T' o 'C' indican que se realizará la ecuación $2$. Las entradas pueden ser mayúsculas o minúsculas indistinamente. \n",
    "* M (int)- Especifíca el número de filas que tiene la matriz $A$. Debe de ser mayor o igual que cero.  \n",
    "* N(int)- Especifíca el número de columnas que tiene la matriz $A$. Debe de ser mayor o igual que cero.   \n",
    "* ALPHA (double)- Indica el escalar que multiplica la matriz $A$.\n",
    "* A (double)- Es un array de dimensión $(LDA,N)$. La parte $m$ por $n$ debe de contener los coeficientes de la matriz.  \n",
    "* LDA (int)- Especifíca la dimensión de $A$ como se declara en el programa que llama la función. Debe de ser com mínimo $max(1,m)$.\n",
    "* X (double)- El vector a operar. Debe de tener como mínimo las dimensiones:   \n",
    "$$(1+(n-1)*|INCX|) \\text{ when } TRANS = 'N'$$ o\n",
    "$$(1+(m-1)*|INCX|) \\text{ when } TRANS = 'C' \\text{ or } TRANS = 'T' $$   \n",
    "\n",
    "* INCX (int)- Incremento entre cada elemento consecutivo del arreglo $X$.\n",
    "* Beta (double)- Indica el escalar que multiplica al vector $Y$.\n",
    "* Y (double)- El vector a operar. Debe de tener como mínimo las dimensiones:   \n",
    "$$(1+(m-1)*|INCX|) \\text{ when } TRANS = 'N'$$ o\n",
    "$$(1+(n-1)*|INCX|) \\text{ when } TRANS = 'C' \\text{ or } TRANS = 'T' $$  \n",
    "* INCY(int)- Incremento entre cada elemento consecutivo del arreglo $Y$.  \n",
    "\n",
    "La función devuelve un vector de la misma dimensión que el arreglo $Y$"
   ]
  },
  {
   "cell_type": "markdown",
   "metadata": {},
   "source": [
    "### Pregunta 2\n",
    "**En la carpeta analisis-numerico-computo-cientifico/C/BLAS/ejemplos/level2/ ejecuta el programa dgemv_mult_mat_vec.c y realiza pruebas con diferentes matrices y vectores definidos por ti.**"
   ]
  },
  {
   "cell_type": "code",
   "execution_count": 1,
   "metadata": {},
   "outputs": [],
   "source": [
    "%%bash \n",
    "echo 1 0 > v.txt\n",
    "echo 0 1.5 >A.txt\n",
    "echo 4 -5 >> A.txt\n",
    "echo -1 2.5 >> A.txt"
   ]
  },
  {
   "cell_type": "code",
   "execution_count": 2,
   "metadata": {},
   "outputs": [
    {
     "name": "stdout",
     "output_type": "stream",
     "text": [
      "Overwriting dgemv_mult_mat_vec.c\n"
     ]
    }
   ],
   "source": [
    "%%file dgemv_mult_mat_vec.c\n",
    "#include<stdio.h>\n",
    "#include<stdlib.h>\n",
    "#include\"definiciones.h\"\n",
    "#define A_matriz \"A.txt\" //de tamaño MxN\n",
    "#define v_vector \"v.txt\" //de tamaño Nx1\n",
    "extern void dgemv_(char *transpose_a, int *m, int *n, double *alpha, double *a, int *lda, double *x, int *incx, double *beta, double *y, int *incy);\n",
    "int main(int argc, char *argv[]){\n",
    "\tarreglo_2d_T A;\n",
    "\tarreglo_1d_T v, v_resultado;\n",
    "\tint M=atoi(argv[1]);\n",
    "\tint N=atoi(argv[2]);\n",
    "\tint incx=1;\n",
    "\tdouble ALPHA, BETA;\n",
    "    ALPHA = 1.0;\n",
    "   \tBETA = 0.0;\n",
    "\tA=malloc(sizeof(*A));\n",
    "\tv=malloc(sizeof(*v));\n",
    "\tv_resultado=malloc(sizeof(*v_resultado));\n",
    "\n",
    "\trenglones(A)=M;\n",
    "\tcolumnas(A)=N;\n",
    "\trenglones_vector(v)=N;\n",
    "\trenglones_vector(v_resultado) = M;\n",
    "\tentradas(A)=malloc(renglones(A)*columnas(A)*sizeof(double));\n",
    "\tinicializa_matriz(A,A_matriz);\n",
    "\n",
    "\tentradas_vector(v)=malloc(N*sizeof(double));\n",
    "\tinicializa_vector(v,v_vector);\n",
    "\n",
    "\tentradas_vector(v_resultado)=calloc(M,sizeof(double));\n",
    "\tprintf(\"matriz 1:\\n\");\n",
    "\timprime_matriz(A);\n",
    "\tprintf(\"------------\\n\");\n",
    "\tprintf(\"vector :\\n\");\n",
    "\timprime_vector(v);\n",
    "\tprintf(\"------------\\n\");\n",
    "\tprintf(\"vector resultado:\\n\");\n",
    "\n",
    "\tdgemv_(\"No transpose\", &M, &N, &ALPHA, entradas(A), &M, entradas_vector(v), &incx, &BETA, entradas_vector(v_resultado),&incx);\n",
    "\timprime_vector(v_resultado);\n",
    "\tfree(entradas(A));\n",
    "\tfree(A);\n",
    "\tfree(entradas_vector(v));\n",
    "\tfree(v);\n",
    "\tfree(entradas_vector(v_resultado));\n",
    "\tfree(v_resultado);\n",
    "\treturn 0;\n",
    "}"
   ]
  },
  {
   "cell_type": "code",
   "execution_count": 3,
   "metadata": {},
   "outputs": [],
   "source": [
    "%%bash\n",
    "gcc -Wall dgemv_mult_mat_vec.c funciones.c -o programa.out -lblas"
   ]
  },
  {
   "cell_type": "code",
   "execution_count": 4,
   "metadata": {},
   "outputs": [
    {
     "name": "stdout",
     "output_type": "stream",
     "text": [
      "matriz 1:\n",
      "matriz[0][0]=0.00000\tmatriz[0][1]=1.50000\n",
      "matriz[1][0]=4.00000\tmatriz[1][1]=-5.00000\n",
      "matriz[2][0]=-1.00000\tmatriz[2][1]=2.50000\n",
      "------------\n",
      "vector :\n",
      "vector[0]=1.00000\n",
      "vector[1]=0.00000\n",
      "------------\n",
      "vector resultado:\n",
      "vector[0]=0.00000\n",
      "vector[1]=4.00000\n",
      "vector[2]=-1.00000\n"
     ]
    }
   ],
   "source": [
    "%%bash\n",
    "./programa.out 3 2"
   ]
  },
  {
   "cell_type": "code",
   "execution_count": 25,
   "metadata": {},
   "outputs": [],
   "source": [
    "%%bash \n",
    "echo 1 0 3 7 >> v.txt\n",
    "echo 0 1.5 >A.txt\n",
    "echo 4 -5 >> A.txt\n",
    "echo -1 2.5 >> A.txt"
   ]
  },
  {
   "cell_type": "code",
   "execution_count": 26,
   "metadata": {},
   "outputs": [
    {
     "name": "stdout",
     "output_type": "stream",
     "text": [
      "matriz 1:\n",
      "matriz[0][0]=0.00000\tmatriz[0][1]=1.50000\n",
      "matriz[1][0]=4.00000\tmatriz[1][1]=-5.00000\n",
      "matriz[2][0]=-1.00000\tmatriz[2][1]=2.50000\n",
      "------------\n",
      "vector :\n",
      "vector[0]=1.00000\n",
      "vector[1]=0.00000\n",
      "------------\n",
      "vector resultado:\n",
      "vector[0]=0.00000\n",
      "vector[1]=4.00000\n",
      "vector[2]=-1.00000\n"
     ]
    }
   ],
   "source": [
    "%%bash\n",
    "./programa.out 3 2"
   ]
  },
  {
   "cell_type": "markdown",
   "metadata": {},
   "source": [
    "Si le cambiamos las dimensiones en la entrada solamente toma en cuenta los primeros números que le alimentamos."
   ]
  },
  {
   "cell_type": "code",
   "execution_count": 28,
   "metadata": {},
   "outputs": [
    {
     "name": "stdout",
     "output_type": "stream",
     "text": [
      "matriz 1:\n",
      "matriz[0][0]=0.00000\tmatriz[0][1]=1.50000\tmatriz[0][2]=4.00000\n",
      "matriz[1][0]=-5.00000\tmatriz[1][1]=-1.00000\tmatriz[1][2]=2.50000\n",
      "matriz[2][0]=0.00000\tmatriz[2][1]=0.00000\tmatriz[2][2]=0.00000\n",
      "matriz[3][0]=0.00000\tmatriz[3][1]=0.00000\tmatriz[3][2]=0.00000\n",
      "matriz[4][0]=0.00000\tmatriz[4][1]=0.00000\tmatriz[4][2]=0.00000\n",
      "------------\n",
      "vector :\n",
      "vector[0]=1.00000\n",
      "vector[1]=0.00000\n",
      "vector[2]=3.00000\n",
      "------------\n",
      "vector resultado:\n",
      "vector[0]=12.00000\n",
      "vector[1]=2.50000\n",
      "vector[2]=0.00000\n",
      "vector[3]=0.00000\n",
      "vector[4]=0.00000\n"
     ]
    }
   ],
   "source": [
    "%%bash\n",
    "./programa.out 5 3"
   ]
  },
  {
   "cell_type": "markdown",
   "metadata": {},
   "source": [
    "Si le ponemos dimensiones mayores a los número que tenemos en los archivos rellena los espacios con ceros.  \n",
    "\n",
    "El vector de salida tiene la dimensión de las columnas de la matriz.  \n",
    "\n",
    "Hay que notar que en este ejemplo usamos el parámetro $\\beta=0$"
   ]
  },
  {
   "cell_type": "markdown",
   "metadata": {},
   "source": [
    "### Pregunta 3\n",
    "**Haz un programa que utilice la subrutina dger de Fortran.**"
   ]
  },
  {
   "cell_type": "markdown",
   "metadata": {},
   "source": [
    "La función **dger** relaiza la operación:  \n",
    "$$A:=\\alpha x y^T + A$$  \n",
    "donde $\\alpha$ es un escalar, $x$ es un vector de $m$ elementos, $y$ es un vector de $n$ elementos y $A$ es una matriz de $mxn$.  \n",
    "La función recibe los parámetros:  \n",
    "* M (int)- Filas de la matriz A  \n",
    "* N (int)- Columnas de la matriz A  \n",
    "* ALPHA (double)- Escalar que multiplica al vector $x$\n",
    "* X (double)- Arreglo de dimensión m como mínimo\n",
    "* INCX (int)- Distancia entre cada elemento de $x$\n",
    "* Y (double)- Arreglo de dimensión $n$\n",
    "* INCY (int)- Distancia entre cada elemento de $y$\n",
    "* LDA (int)- Especifíca la primera dimensión de la matriz de salida\n",
    "* A (double)- Matriz de coeficientes para sumar a la operación.\n",
    "\n",
    "La salida es la matriz $A$ de dimensiones $(LDA,N)$\n",
    "\n"
   ]
  },
  {
   "cell_type": "code",
   "execution_count": 53,
   "metadata": {},
   "outputs": [
    {
     "name": "stdout",
     "output_type": "stream",
     "text": [
      "Overwriting dger.c\n"
     ]
    }
   ],
   "source": [
    "%%file dger.c\n",
    "#include<stdio.h>\n",
    "#include<stdlib.h>\n",
    "#include\"definiciones.h\"\n",
    "#define y_vector \"y.txt\" //de tamaño Nx1\n",
    "#define x_vector \"x.txt\" //de tamaño Mx1\n",
    "\n",
    "extern void dger_(int *m, int *n, double *alpha, double *x, int *incx, double *y, int *incy, double *a, int *lda);\n",
    "int main(int argc, char *argv[]){\n",
    "\tarreglo_2d_T A;\n",
    "\tarreglo_1d_T x, y;\n",
    "\tint M=atoi(argv[1]);\n",
    "\tint N=atoi(argv[2]);\n",
    "\tint incx=1;\n",
    "\tdouble ALPHA;\n",
    "    ALPHA = 1.0;\n",
    "    \n",
    "\tA=malloc(sizeof(*A));\n",
    "\tx=malloc(sizeof(*x));\n",
    "\ty=malloc(sizeof(*y));\n",
    "\n",
    "\trenglones(A)=M;\n",
    "\tcolumnas(A)=N;\n",
    "\trenglones_vector(x)=M;\n",
    "\trenglones_vector(y) = N;\n",
    "\tentradas_vector(y)=malloc(N*sizeof(double));\n",
    "\tinicializa_vector(y,y_vector);\n",
    "\n",
    "\tentradas_vector(x)=malloc(M*sizeof(double));\n",
    "\tinicializa_vector(x,x_vector);\n",
    "\n",
    "\t\n",
    "    entradas(A)=calloc(M*N,sizeof(double));\n",
    "    printf(\"vector x:\\n\");\n",
    "\timprime_vector(x);\n",
    "\tprintf(\"------------\\n\");\n",
    "\tprintf(\"vector y:\\n\");\n",
    "\timprime_vector(y);\n",
    "\tprintf(\"------------\\n\");\n",
    "\tprintf(\"vector resultado:\\n\");\n",
    "\n",
    "\tdger_(&M, &N, &ALPHA, entradas_vector(x), &incx, entradas_vector(y),&incx, entradas(A), &M);\n",
    "\timprime_matriz(A);\n",
    "\t\n",
    "    free(entradas(A));\n",
    "\tfree(A);\n",
    "\tfree(entradas_vector(x));\n",
    "\tfree(x);\n",
    "\tfree(entradas_vector(y));\n",
    "\tfree(y);\n",
    "\treturn 0;\n",
    "}"
   ]
  },
  {
   "cell_type": "code",
   "execution_count": 54,
   "metadata": {},
   "outputs": [],
   "source": [
    "%%bash\n",
    "gcc -Wall dger.c funciones.c -o prog_dger.out -lblas"
   ]
  },
  {
   "cell_type": "code",
   "execution_count": 55,
   "metadata": {},
   "outputs": [],
   "source": [
    "%%bash \n",
    "echo 1 2 3 > x.txt\n",
    "echo 4 5 >y.txt"
   ]
  },
  {
   "cell_type": "code",
   "execution_count": 56,
   "metadata": {},
   "outputs": [
    {
     "name": "stdout",
     "output_type": "stream",
     "text": [
      "vector x:\n",
      "vector[0]=1.00000\n",
      "vector[1]=2.00000\n",
      "vector[2]=3.00000\n",
      "------------\n",
      "vector y:\n",
      "vector[0]=4.00000\n",
      "vector[1]=5.00000\n",
      "------------\n",
      "vector resultado:\n",
      "matriz[0][0]=4.00000\tmatriz[0][1]=5.00000\n",
      "matriz[1][0]=8.00000\tmatriz[1][1]=10.00000\n",
      "matriz[2][0]=12.00000\tmatriz[2][1]=15.00000\n"
     ]
    }
   ],
   "source": [
    "%%bash\n",
    "./prog_dger.out 3 2"
   ]
  },
  {
   "cell_type": "code",
   "execution_count": 57,
   "metadata": {},
   "outputs": [],
   "source": [
    "%%bash \n",
    "echo 1 2 -3 > x.txt\n",
    "echo 0 5 -7 0 1 >y.txt"
   ]
  },
  {
   "cell_type": "code",
   "execution_count": 58,
   "metadata": {},
   "outputs": [
    {
     "name": "stdout",
     "output_type": "stream",
     "text": [
      "vector x:\n",
      "vector[0]=1.00000\n",
      "vector[1]=2.00000\n",
      "vector[2]=-3.00000\n",
      "------------\n",
      "vector y:\n",
      "vector[0]=0.00000\n",
      "vector[1]=5.00000\n",
      "vector[2]=-7.00000\n",
      "vector[3]=0.00000\n",
      "vector[4]=1.00000\n",
      "------------\n",
      "vector resultado:\n",
      "matriz[0][0]=0.00000\tmatriz[0][1]=5.00000\tmatriz[0][2]=-7.00000\tmatriz[0][3]=0.00000\tmatriz[0][4]=1.00000\n",
      "matriz[1][0]=0.00000\tmatriz[1][1]=10.00000\tmatriz[1][2]=-14.00000\tmatriz[1][3]=0.00000\tmatriz[1][4]=2.00000\n",
      "matriz[2][0]=0.00000\tmatriz[2][1]=-15.00000\tmatriz[2][2]=21.00000\tmatriz[2][3]=0.00000\tmatriz[2][4]=-3.00000\n"
     ]
    }
   ],
   "source": [
    "%%bash\n",
    "./prog_dger.out 3 5"
   ]
  },
  {
   "cell_type": "code",
   "execution_count": 59,
   "metadata": {},
   "outputs": [
    {
     "name": "stdout",
     "output_type": "stream",
     "text": [
      "vector x:\n",
      "vector[0]=1.00000\n",
      "vector[1]=2.00000\n",
      "vector[2]=-3.00000\n",
      "------------\n",
      "vector y:\n",
      "------------\n",
      "vector resultado:\n"
     ]
    },
    {
     "name": "stderr",
     "output_type": "stream",
     "text": [
      "Parameter 2 to routine DGER   was incorrect\n"
     ]
    }
   ],
   "source": [
    "%%bash\n",
    "./prog_dger.out 3 -1"
   ]
  },
  {
   "cell_type": "markdown",
   "metadata": {},
   "source": [
    "Las dimensiones funcionan igual que en los ejemplos anteriores. En el caso de mandemos más dimensiones el programa llenará esas posiciones con cero. Si mandamos menos posiciones entonces el programa solamente tomará en cuenta las primeras.  \n",
    "En el ejemplo anterior observamos el caso de que una de las dos dimensiones es menor que cero, a lo que la función no arroja un error."
   ]
  },
  {
   "cell_type": "markdown",
   "metadata": {},
   "source": [
    "### Pregunta 4\n",
    "**Después de haber estudiado y entendido los archivos de definiciones.h y funciones.c y realizado los puntos anteriores y la tarea 5 responde: ¿cómo fue que pudimos llamar a las rutinas de Fortran (que almacena en una forma column-major order los arreglos de dos dimensiones) para operaciones con arreglos 2-dimensionales sin haber instalado CBLAS, si en clase se dijo que almacenar arreglos de dos dimensiones en C es en un row-major order?**\n"
   ]
  },
  {
   "cell_type": "markdown",
   "metadata": {},
   "source": [
    "En este programa es posible llamar la función en Fortran por como se ordeno la matriz cuando se mandó llamar. En el archivo `definiciones.h`, en la línea en que se definen las entradas de la matriz se están ordenando las entradas en forma columnar, como se hace en Fortran y no en forma de filas, como es el estándar en C. La línea en el programa se lee de la siguiente manera:  \n",
    "\n",
    "`#define entrada(arreglo,i,j) ((arreglo)->arr[j*renglones(arreglo)+i]) //almacenamos column major`\n",
    "\n",
    "En la línea anterior, $i$ es el índice que indica la columna y $j$ es el índice que indica el renglón. Además $N$ es el número de columnas y $M$ es el número de renglones.  \n",
    "Cuando almacenamos una matriz en un arreglo unidimensional en **formato de renglones** debemos recorrer las entradas como:  \n",
    "$$entrada(i,j)=i*N+j, \\forall i=0,...,N-1 , j=0,...M-1$$   \n",
    "\n",
    "Cuando almacenamos una matriz en un arreglo unidimensional en **formato de columnas** debemos recorrer las entradas como:  \n",
    "$$entrada(i,j)=j*M+i, \\forall i=0,...,N-1 , j=0,...M-1$$\n",
    "Esta es la manera en que se recorre el arreglo en la deifción de las entradas de la matriz.  \n",
    "\n",
    "<img src=\"column_or_row.png\">  \n",
    "\n",
    "**Imagen 1** Muestra como se recorren los arreglos, del lado izquierdo se recorre de manera columnar (Fortran) y del lado derecho se recorre por renglón (como en C)."
   ]
  },
  {
   "cell_type": "markdown",
   "metadata": {},
   "source": [
    "### Pregunta 5 \n",
    "**Investiga* sobre la subrutina de Fortran dgemm (parámetros que recibe y la salida).**\n",
    "\n",
    "La función DGEMM realiza una multiplicación de matrices y la multiplica por un escalar, de ser necesario transpone una de las matrices y le suma el resultado escalado por una constante. La operación está planteada de la siguiente manera:  \n",
    "$$C=\\alpha * op(A) * op(B) + \\beta C_1$$  \n",
    "donde $op(X)$ puede ser:  \n",
    "$$op(X)=X \\text{    o    } op(X)=X^T$$  \n",
    "Con $op(A)$ una matriz de $mxk$, $op(B)$ una matriz de $kxn$ $C$ una matriz de $mxn$. $\\alpha$ y $\\beta$ son escalares.  \n",
    "\n",
    "Los parámetros que recibe la función son:\n",
    "* TRANSA (char)- Puede tomar 3 valores: $'N'$ para que no se transponga la matriz $A$. $'T'$ o $'C'$ para que se compute la transpuesta de la matriz $A$. No es sensible a mayúsculas y minúsculas  \n",
    "* TRANSB (char)- Puede tomar 3 valores: $'N'$ para que no se transponga la matriz $B$. $'T'$ o $'C'$ para que se compute la transpuesta de la matriz $B$. No es sensible a mayúsculas y minúsculas  \n",
    "* M (int)- Espcifica el número de filas que tiene la matriz $op(A)$. Debe ser al menos cero  \n",
    "* N (int)- Espcifica el número de columnas que tiene la matriz $op(B)$. Debe ser al menos cero  \n",
    "* K (int)- Espcifica el número de columnas que tiene la matriz $op(A)$ y el número de filas que tiene la matriz $op(B)$. Debe ser al menos cero  \n",
    "* ALPHA (double)- Escalar que ajusta la multiplicación de matrices  \n",
    "* A (double)- Matriz de dimensión $LDAxka$ donde $ka=k$ si $TRANSA='N'$, $m$ si es de otra manera\n",
    "* LDA (int)- Especifica la primera dimensión de la matriz $A$\n",
    "* B (double)- Matriz de dimensión $LDBxkb$ donde $kb=n$ si $TRANSB='N'$, $k$ si es de otra manera.\n",
    "* LDB (int) - Especifica la primera dimensión de la matriz $B$\n",
    "* BETA (double)- Escalar que multiplica la matriz de salida\n",
    "* C (double)- Si $\\beta=0$ no se necesita especificar. Si $ \\beta \\neq 0$, $C$ debe de tener dimensiones $mxn$. La salida sobreescribe esta matriz.\n",
    "* LDC (int)- Especifica la primera dimensión de $C$.\n",
    "\n",
    "La salida es una matriz $C$ de dimensiones $mxn$, resultado de hacer la operación."
   ]
  },
  {
   "cell_type": "markdown",
   "metadata": {},
   "source": [
    "### Pregunta 6\n",
    "**En la carpeta analisis-numerico-computo-cientifico/C/BLAS/ejemplos/level3/ ejecuta el programa dgemm_mult_mat.c y realiza pruebas con diferentes matrices definidas por ti.**"
   ]
  },
  {
   "cell_type": "code",
   "execution_count": 43,
   "metadata": {},
   "outputs": [],
   "source": [
    "%%bash\n",
    "echo 0 1.5 > A.txt\n",
    "echo 4 -5 >> A.txt\n",
    "echo -1 2.5 >> A.txt\n",
    "echo 1 0 0 > B.txt\n",
    "echo 0 -1 1 >> B.txt"
   ]
  },
  {
   "cell_type": "code",
   "execution_count": 6,
   "metadata": {},
   "outputs": [
    {
     "name": "stdout",
     "output_type": "stream",
     "text": [
      "Writing dgemm_mult_mat.c\n"
     ]
    }
   ],
   "source": [
    "%%file dgemm_mult_mat.c\n",
    "\n",
    "#include<stdio.h>\n",
    "#include<stdlib.h>\n",
    "#include\"definiciones.h\"\n",
    "#define A_matriz \"A.txt\" //de tamaño MxK\n",
    "#define B_matriz \"B.txt\" //de tamaño KxN\n",
    "extern void dgemm_(char *transposeA, char *transposeB,int *m,int *n,int *k,double *alpha,double *A,int *lda,double *B,int *ldb,double *beta,double *C,int *ldc);\n",
    "int main(int argc, char *argv[]){\n",
    "\tarreglo_2d_T A, B, C;\n",
    "\tint M=atoi(argv[1]);\n",
    "\tint K=atoi(argv[2]);\n",
    "\tint N=atoi(argv[4]);\n",
    "\tdouble ALPHA, BETA;\n",
    "    ALPHA = 1.0;\n",
    "    BETA = 0.0;\n",
    "\tA=malloc(sizeof(*A));\n",
    "\tB=malloc(sizeof(*B));\n",
    "\tC=malloc(sizeof(*C));\n",
    "\trenglones(A)=M;\n",
    "\tcolumnas(A)=K;\n",
    "\trenglones(B)=K;\n",
    "\tcolumnas(B)=N;\n",
    "\trenglones(C) = M;\n",
    "\tcolumnas(C) = N;\n",
    "\tentradas(A)=malloc(renglones(A)*columnas(A)*sizeof(double));\n",
    "\tinicializa_matriz(A,A_matriz);\n",
    "\tentradas(B)=malloc(renglones(B)*columnas(B)*sizeof(double));\n",
    "\tinicializa_matriz(B,B_matriz);\n",
    "\tprintf(\"matriz 1:\\n\");\n",
    "\timprime_matriz(A);\n",
    "\tprintf(\"------------\\n\");\n",
    "\tprintf(\"matriz 2:\\n\");\n",
    "\timprime_matriz(B);\n",
    "\tprintf(\"------------\\n\");\n",
    "\tprintf(\"matriz resultado:\\n\");\n",
    "\tentradas(C)=calloc(renglones(C)*columnas(C),sizeof(double));\n",
    "\tdgemm_(\"No transpose\", \"No transpose\", &M, &N, &K, &ALPHA, entradas(A), &M, entradas(B), &K, &BETA, entradas(C), &M);\n",
    "\timprime_matriz(C);\n",
    "\tfree(entradas(A));\n",
    "\tfree(A);\n",
    "\tfree(entradas(B));\n",
    "\tfree(B);\n",
    "\tfree(entradas(C));\n",
    "\tfree(C);\n",
    "\treturn 0;\n",
    "}"
   ]
  },
  {
   "cell_type": "code",
   "execution_count": 7,
   "metadata": {},
   "outputs": [],
   "source": [
    "%%bash \n",
    "gcc -Wall dgemm_mult_mat.c funciones.c -o programa.out -lblas"
   ]
  },
  {
   "cell_type": "code",
   "execution_count": 13,
   "metadata": {},
   "outputs": [
    {
     "name": "stdout",
     "output_type": "stream",
     "text": [
      "matriz 1:\n",
      "matriz[0][0]=0.00000\tmatriz[0][1]=1.50000\n",
      "matriz[1][0]=4.00000\tmatriz[1][1]=-5.00000\n",
      "matriz[2][0]=-1.00000\tmatriz[2][1]=2.50000\n",
      "------------\n",
      "matriz 2:\n",
      "matriz[0][0]=1.00000\tmatriz[0][1]=0.00000\tmatriz[0][2]=0.00000\n",
      "matriz[1][0]=0.00000\tmatriz[1][1]=-1.00000\tmatriz[1][2]=1.00000\n",
      "------------\n",
      "matriz resultado:\n",
      "matriz[0][0]=0.00000\tmatriz[0][1]=-1.50000\tmatriz[0][2]=1.50000\n",
      "matriz[1][0]=4.00000\tmatriz[1][1]=5.00000\tmatriz[1][2]=-5.00000\n",
      "matriz[2][0]=-1.00000\tmatriz[2][1]=-2.50000\tmatriz[2][2]=2.50000\n"
     ]
    }
   ],
   "source": [
    "%%bash \n",
    "./programa.out 3 2 2 3"
   ]
  },
  {
   "cell_type": "markdown",
   "metadata": {},
   "source": [
    "Hay que notar que estamos mandando el 'No transpose' en la matriz $A$ y en la $B$, lo que indica que para ninguna de las dos matrices se calculará la transpuesta. Además el escalar $\\beta$ lo tenemos fijo igual a cero y $\\alpha$ igual a $1$. Entonces estamos realizando la operación de multiplicación de matrices sencilla. Las dimensiones $m, n$ y $k$ las estamos mandando como parámetros al programa, estos son los números que se envian como $LDA, LDB \\text{ y } LDC$.\n"
   ]
  },
  {
   "cell_type": "code",
   "execution_count": null,
   "metadata": {},
   "outputs": [],
   "source": [
    "%%bash\n",
    "echo 3 > A.txt\n",
    "echo 2  > B.txt"
   ]
  },
  {
   "cell_type": "code",
   "execution_count": 17,
   "metadata": {},
   "outputs": [
    {
     "name": "stdout",
     "output_type": "stream",
     "text": [
      "matriz 1:\n",
      "matriz[0][0]=3.00000\n",
      "------------\n",
      "matriz 2:\n",
      "matriz[0][0]=2.00000\n",
      "------------\n",
      "matriz resultado:\n",
      "matriz[0][0]=6.00000\n"
     ]
    }
   ],
   "source": [
    "%%bash \n",
    "./programa.out 1 1 1 1 "
   ]
  },
  {
   "cell_type": "code",
   "execution_count": null,
   "metadata": {},
   "outputs": [],
   "source": [
    "Si mandamos un escalar solamente hace la multiplicacion"
   ]
  },
  {
   "cell_type": "code",
   "execution_count": 21,
   "metadata": {},
   "outputs": [],
   "source": [
    "%%bash\n",
    "echo 3 2 > A.txt\n",
    "echo  5 -1>> A.txt\n",
    "#echo -1 2.5 >> A.txt\n",
    "echo 2 -1 4  > B.txt\n",
    "echo 0 -1 -1 >> B.txt\n",
    "echo 0 1 1 >> B.txt"
   ]
  },
  {
   "cell_type": "code",
   "execution_count": 23,
   "metadata": {},
   "outputs": [
    {
     "name": "stdout",
     "output_type": "stream",
     "text": [
      "matriz 1:\n",
      "matriz[0][0]=3.00000\tmatriz[0][1]=2.00000\n",
      "matriz[1][0]=5.00000\tmatriz[1][1]=-1.00000\n",
      "------------\n",
      "matriz 2:\n",
      "matriz[0][0]=2.00000\tmatriz[0][1]=-1.00000\tmatriz[0][2]=4.00000\n",
      "matriz[1][0]=0.00000\tmatriz[1][1]=-1.00000\tmatriz[1][2]=-1.00000\n",
      "------------\n",
      "matriz resultado:\n",
      "matriz[0][0]=6.00000\tmatriz[0][1]=-5.00000\tmatriz[0][2]=10.00000\n",
      "matriz[1][0]=10.00000\tmatriz[1][1]=-4.00000\tmatriz[1][2]=21.00000\n"
     ]
    }
   ],
   "source": [
    "%%bash \n",
    "./programa.out 2 2 32 3"
   ]
  },
  {
   "cell_type": "markdown",
   "metadata": {},
   "source": [
    "Aunque mandemos dimensiones que no concuerdan se realiza la operación. Lo que esta pasando es que el tercer argumento posicional que enviamos no lo usamos para nada en el programa. El segundo argumento posicional determina la $k$ que corresponde a la segunda dimensión de la matriz $A$ y a la primera de la matriz $B$. Entonces el programa detectó $A$ de $2x2$ y $B$ de $2x3$, entonces el resultado es de $2x3$."
   ]
  },
  {
   "cell_type": "markdown",
   "metadata": {},
   "source": [
    "### Pregunta 7\n",
    "**En la carpeta del punto anterior encuentras la sección Multiplicación matriz-matriz con trick. Ejecuta el programa de esta sección con diferentes matrices definidas por ti y resuelve la pregunta ¿por qué funciona este trick?.**\n"
   ]
  },
  {
   "cell_type": "code",
   "execution_count": 37,
   "metadata": {},
   "outputs": [
    {
     "name": "stdout",
     "output_type": "stream",
     "text": [
      "Overwriting definiciones_trick.h\n"
     ]
    }
   ],
   "source": [
    "%%file definiciones_trick.h\n",
    "\n",
    "typedef struct{\n",
    "int m, n;\n",
    "#define renglones(arreglo) ((arreglo)->m)\n",
    "#define columnas(arreglo) ((arreglo)->n)\n",
    "double *arr;\n",
    "#define entradas(arreglo) ((arreglo)->arr)\n",
    "#define entrada(arreglo,i,j) ((arreglo)->arr[i*columnas(arreglo)+j]) //almacenamos row major\n",
    "}arreglo_2d;\n",
    "typedef arreglo_2d *arreglo_2d_T;\n",
    "typedef struct{\n",
    "int n;\n",
    "#define renglones_vector(arreglo) ((arreglo)->n)\n",
    "double *arr;\n",
    "int *arr_int;\n",
    "#define entradas_vector(arreglo) ((arreglo)->arr)\n",
    "#define entrada_vector(arreglo,i) ((arreglo)->arr[i])\n",
    "#define entradas_vector_entero(arreglo) ((arreglo)->arr_int)\n",
    "#define entrada_vector_entero(arreglo,i) ((arreglo)->arr_int[i])\n",
    "}arreglo_1d;\n",
    "typedef arreglo_1d *arreglo_1d_T;\n",
    "void imprime_vector(arreglo_1d_T);\n",
    "void imprime_matriz(arreglo_2d_T);\n",
    "void inicializa_matriz(arreglo_2d_T, char *);\n",
    "void inicializa_vector(arreglo_1d_T, char *);\n",
    "void imprime_vector_entero(arreglo_1d_T);"
   ]
  },
  {
   "cell_type": "code",
   "execution_count": 36,
   "metadata": {},
   "outputs": [
    {
     "name": "stdout",
     "output_type": "stream",
     "text": [
      "Overwriting dgemm_mult_mat_trick.c\n"
     ]
    }
   ],
   "source": [
    "%%file dgemm_mult_mat_trick.c\n",
    "\n",
    "#include<stdio.h>\n",
    "#include<stdlib.h>\n",
    "#include\"definiciones_trick.h\"\n",
    "#define A_matriz \"A.txt\" //de tamaño MxK\n",
    "#define B_matriz \"B.txt\" //de tamaño KxN\n",
    "extern void dgemm_(char *transposeA, char *transposeB,int *m,int *n,int *k,double *alpha,double *A,int *lda,double *B,int *ldb,double *beta,double *C,int *ldc);\n",
    "int main(int argc, char *argv[]){\n",
    "\tarreglo_2d_T A, B, C;\n",
    "\tint M=atoi(argv[1]);\n",
    "\tint K=atoi(argv[2]);\n",
    "\tint N=atoi(argv[4]);\n",
    "\tdouble ALPHA, BETA;\n",
    "    ALPHA = 1.0;\n",
    "    BETA = 0.0;\n",
    "\tA=malloc(sizeof(*A));\n",
    "\tB=malloc(sizeof(*B));\n",
    "\tC=malloc(sizeof(*C));\n",
    "\trenglones(A)=M;\n",
    "\tcolumnas(A)=K;\n",
    "\trenglones(B)=K;\n",
    "\tcolumnas(B)=N;\n",
    "\trenglones(C) = M;\n",
    "\tcolumnas(C) = N;\n",
    "\tentradas(A)=malloc(renglones(A)*columnas(A)*sizeof(double));\n",
    "\tinicializa_matriz(A,A_matriz);\n",
    "\tentradas(B)=malloc(renglones(B)*columnas(B)*sizeof(double));\n",
    "\tinicializa_matriz(B,B_matriz);\n",
    "\tprintf(\"matriz 1:\\n\");\n",
    "\timprime_matriz(A);\n",
    "\tprintf(\"------------\\n\");\n",
    "\tprintf(\"matriz 2:\\n\");\n",
    "\timprime_matriz(B);\n",
    "\tprintf(\"matriz 3:\\n\");\n",
    "\tentradas(C)=calloc(renglones(C)*columnas(C),sizeof(double));\n",
    "\tdgemm_(\"No transpose\", \"No transpose\", &N, &M, &K, &ALPHA, entradas(B), &N, entradas(A), &K, &BETA, entradas(C), &N);\n",
    "\timprime_matriz(C);\n",
    "\tfree(entradas(A));\n",
    "\tfree(A);\n",
    "\tfree(entradas(B));\n",
    "\tfree(B);\n",
    "\tfree(entradas(C));\n",
    "\tfree(C);\n",
    "\treturn 0;\n",
    "}"
   ]
  },
  {
   "cell_type": "code",
   "execution_count": 39,
   "metadata": {},
   "outputs": [
    {
     "name": "stdout",
     "output_type": "stream",
     "text": [
      "Writing funciones_trick.c\n"
     ]
    }
   ],
   "source": [
    "%%file funciones_trick.c\n",
    "    \n",
    "#include<stdio.h>\n",
    "#include<stdlib.h>\n",
    "#include\"definiciones_trick.h\"\n",
    "static int i,j;\n",
    "void inicializa_matriz(arreglo_2d_T p, char *s){\n",
    "\tint m = renglones(p);\n",
    "\tint n = columnas(p);\n",
    "\tFILE * pFile;\n",
    "  \tpFile = fopen (s,\"r\");\n",
    "  \tfor(i=0;i<m;i++)\n",
    "\t\tfor(j=0;j<n;j++)\n",
    "\t\t\tfscanf(pFile,\"%lf\", &entrada(p,i,j));\n",
    "\tfclose(pFile);\n",
    "}\n",
    "void inicializa_vector(arreglo_1d_T p, char *s){\n",
    "\tint m = renglones_vector(p);\n",
    "\tFILE * pFile;\n",
    "  \tpFile = fopen (s,\"r\");\n",
    "  \tfor(i=0;i<m;i++)\n",
    "\t\t\tfscanf(pFile,\"%lf\", &entrada_vector(p,i));\n",
    "\tfclose(pFile);\n",
    "}\n",
    "void imprime_matriz(arreglo_2d_T p){\n",
    "\tint m = renglones(p);\n",
    "\tint n = columnas(p);\n",
    "\t\tfor(i=0;i<m;i++){\n",
    "\t\t\tfor(j=0;j<n;j++){\n",
    "\t\t\t\tif(j<n-1)\n",
    "\t\t\t\tprintf(\"matriz[%d][%d]=%.5f\\t\",i,j,entrada(p,i,j));\n",
    "\t\t\t\telse\n",
    "\t\t\t\tprintf(\"matriz[%d][%d]=%.5f\\n\",i,j,entrada(p,i,j));\n",
    "\t\t\t}\n",
    "\t\t}\n",
    "}\n",
    "void imprime_vector_entero(arreglo_1d_T p){\n",
    "\tint m = renglones_vector(p);\n",
    "\t\tfor(i=0;i<m;i++)\n",
    "\t\t\t\tprintf(\"vector[%d]=%d\\n\",i,entrada_vector_entero(p,i));\n",
    "}\n",
    "void imprime_vector(arreglo_1d_T p){\n",
    "\tint m = renglones_vector(p);\n",
    "\t\t\tfor(i=0;i<m;i++)\n",
    "\t\t\t\tprintf(\"vector[%d]=%.5f\\n\",i,entrada_vector(p,i));\n",
    "}"
   ]
  },
  {
   "cell_type": "code",
   "execution_count": 41,
   "metadata": {},
   "outputs": [],
   "source": [
    "%%bash                           \n",
    "gcc -Wall dgemm_mult_mat_trick.c funciones_trick.c -o programa_trick.out -lblas"
   ]
  },
  {
   "cell_type": "code",
   "execution_count": 45,
   "metadata": {},
   "outputs": [
    {
     "name": "stdout",
     "output_type": "stream",
     "text": [
      "matriz 1:\n",
      "matriz[0][0]=0.00000\tmatriz[0][1]=1.50000\n",
      "matriz[1][0]=4.00000\tmatriz[1][1]=-5.00000\n",
      "matriz[2][0]=-1.00000\tmatriz[2][1]=2.50000\n",
      "------------\n",
      "matriz 2:\n",
      "matriz[0][0]=1.00000\tmatriz[0][1]=0.00000\tmatriz[0][2]=0.00000\n",
      "matriz[1][0]=0.00000\tmatriz[1][1]=-1.00000\tmatriz[1][2]=1.00000\n",
      "matriz 3:\n",
      "matriz[0][0]=0.00000\tmatriz[0][1]=-1.50000\tmatriz[0][2]=1.50000\n",
      "matriz[1][0]=4.00000\tmatriz[1][1]=5.00000\tmatriz[1][2]=-5.00000\n",
      "matriz[2][0]=-1.00000\tmatriz[2][1]=-2.50000\tmatriz[2][2]=2.50000\n"
     ]
    }
   ],
   "source": [
    "%%bash \n",
    "./programa_trick.out 3 2 2 3"
   ]
  },
  {
   "cell_type": "markdown",
   "metadata": {},
   "source": [
    "El trick funciona por que como estamos definiendo y guardando las matrices es equivalente a estar calculando la matriz transpuesta. Independientemente de como capturemos las entradas, Fortran las seguirá tomando como si fuera columnar, entonces al en formato de filas (llenando elemento a elemento) es como haberlo capturado normal y haber calculdo la transpuesta.  \n",
    "Luego alimentamos a la función cambiando el orden de las matrices a multiplicar. Como sabemos, para tres matrices $A$, $B$ y $C$:  \n",
    "$$C=AB \\implies{} C^T=(AB)^T=B^T A^T$$  \n",
    "Entonces mandamos a la función en Fortran las matrices $A$ y $B$ guardadas en formato de filas, en Fortran es similar a haber calculado las transpuestas y al multiplicar se calcula $C^T$. Al imprimir, el método funciona con el método columnar, entonces al recorrer por columnas la matriz que está guardada por filas vuelve a ser equivalente a calcular la transpuesta y el programa imprime $C$ sin transponer.   \n",
    "También es importante notar que a la función enviamos las dimensiones de las matrices como si estuvieran transpuestas. \n",
    "* Envaimos $N$ como la primera dimensión de $B$, cuando en realidad es $k$  \n",
    "* Envaimos $k$ como la primera dimensión de $A$, cuando en realidad es $M$  \n",
    "* Envaimos $N$ como la primera dimensión de $C$, cuando en realidad es $M$  \n",
    "* Envaimos $M$ al parámetro $N$\n",
    "* Envaimos $N$ al parámetro $M$\n"
   ]
  },
  {
   "cell_type": "markdown",
   "metadata": {},
   "source": [
    "### Pregunta 8\n",
    "**Haz un programa que utilice la subrutina dsymm de Fortran.**\n",
    "\n"
   ]
  },
  {
   "cell_type": "markdown",
   "metadata": {},
   "source": [
    "La función **DSYMM** hace una multiplicación de una matriz simétrica por otra matriz. Solamente usa una de las matrices triangulares asociadas a la simétrica para caluclarla. Se indica como parámtero que matriz triangular usará el programa."
   ]
  },
  {
   "cell_type": "code",
   "execution_count": 48,
   "metadata": {},
   "outputs": [
    {
     "name": "stdout",
     "output_type": "stream",
     "text": [
      "Overwriting dsymm.c\n"
     ]
    }
   ],
   "source": [
    "%%file dsymm.c\n",
    "\n",
    "#include<stdio.h>\n",
    "#include<stdlib.h>\n",
    "#include\"definiciones.h\"\n",
    "#define A_matriz \"A.txt\" //de tamaño MxK\n",
    "#define B_matriz \"B.txt\" //de tamaño KxN\n",
    "extern void dsymm_(char *side, char *uplo, int *m,int *n, double *alpha,double *A,int *lda,double *B,int *ldb,double *beta,double *C,int *ldc);\n",
    "int main(int argc, char *argv[]){\n",
    "\tarreglo_2d_T A, B, C;\n",
    "\tint M=atoi(argv[1]);\n",
    "\tint N=atoi(argv[2]);\n",
    "\tdouble ALPHA, BETA;\n",
    "    ALPHA = 1.0;\n",
    "    BETA = 0.0;\n",
    "\tA=malloc(sizeof(*A));\n",
    "\tB=malloc(sizeof(*B));\n",
    "\tC=malloc(sizeof(*C));\n",
    "\trenglones(A)=M;\n",
    "\tcolumnas(A)=M;\n",
    "\trenglones(B)=M;\n",
    "\tcolumnas(B)=N;\n",
    "\trenglones(C) = M;\n",
    "\tcolumnas(C) = N;\n",
    "\tentradas(A)=malloc(renglones(A)*columnas(A)*sizeof(double));\n",
    "\tinicializa_matriz(A,A_matriz);\n",
    "\tentradas(B)=malloc(renglones(B)*columnas(B)*sizeof(double));\n",
    "\tinicializa_matriz(B,B_matriz);\n",
    "\tprintf(\"matriz 1:\\n\");\n",
    "\timprime_matriz(A);\n",
    "\tprintf(\"------------\\n\");\n",
    "\tprintf(\"matriz 2:\\n\");\n",
    "\timprime_matriz(B);\n",
    "\tprintf(\"------------\\n\");\n",
    "\tprintf(\"matriz resultado:\\n\");\n",
    "\tentradas(C)=calloc(renglones(C)*columnas(C),sizeof(double));\n",
    "\tdsymm_(\"L\", \"U\", &M, &N, &ALPHA, entradas(A), &M, entradas(B), &M, &BETA, entradas(C), &M);\n",
    "\timprime_matriz(C);\n",
    "\tfree(entradas(A));\n",
    "\tfree(A);\n",
    "\tfree(entradas(B));\n",
    "\tfree(B);\n",
    "\tfree(entradas(C));\n",
    "\tfree(C);\n",
    "\treturn 0;\n",
    "}"
   ]
  },
  {
   "cell_type": "code",
   "execution_count": 49,
   "metadata": {},
   "outputs": [],
   "source": [
    "%%bash \n",
    "gcc -Wall dsymm.c funciones.c -o prog_dsymm.out -lblas"
   ]
  },
  {
   "cell_type": "code",
   "execution_count": 52,
   "metadata": {},
   "outputs": [],
   "source": [
    "%%bash\n",
    "#matriz A\n",
    "echo -8 -1 3 >A.txt\n",
    "echo -1 7 4 >>A.txt\n",
    "echo -3 4 9 >>A.txt\n",
    "\n",
    "# matriz B\n",
    "echo  1 4 > B.txt\n",
    "echo -1 3 >>B.txt\n",
    "echo -3 2 >>B.txt\n"
   ]
  },
  {
   "cell_type": "code",
   "execution_count": 53,
   "metadata": {},
   "outputs": [
    {
     "name": "stdout",
     "output_type": "stream",
     "text": [
      "matriz 1:\n",
      "matriz[0][0]=-8.00000\tmatriz[0][1]=-1.00000\tmatriz[0][2]=3.00000\n",
      "matriz[1][0]=-1.00000\tmatriz[1][1]=7.00000\tmatriz[1][2]=4.00000\n",
      "matriz[2][0]=-3.00000\tmatriz[2][1]=4.00000\tmatriz[2][2]=9.00000\n",
      "------------\n",
      "matriz 2:\n",
      "matriz[0][0]=1.00000\tmatriz[0][1]=4.00000\n",
      "matriz[1][0]=-1.00000\tmatriz[1][1]=3.00000\n",
      "matriz[2][0]=-3.00000\tmatriz[2][1]=2.00000\n",
      "------------\n",
      "matriz resultado:\n",
      "matriz[0][0]=-16.00000\tmatriz[0][1]=-29.00000\n",
      "matriz[1][0]=-20.00000\tmatriz[1][1]=25.00000\n",
      "matriz[2][0]=-28.00000\tmatriz[2][1]=42.00000\n"
     ]
    }
   ],
   "source": [
    "%%bash \n",
    "./prog_dsymm.out 3 2 "
   ]
  },
  {
   "cell_type": "markdown",
   "metadata": {},
   "source": [
    "**Imagen extraída de:  \n",
    "https://software.intel.com/en-us/mkl-macos-developer-guide-calling-lapack-blas-and-cblas-routines-from-c-c-language-environments"
   ]
  }
 ],
 "metadata": {
  "kernelspec": {
   "display_name": "Python 3",
   "language": "python",
   "name": "python3"
  },
  "language_info": {
   "codemirror_mode": {
    "name": "ipython",
    "version": 3
   },
   "file_extension": ".py",
   "mimetype": "text/x-python",
   "name": "python",
   "nbconvert_exporter": "python",
   "pygments_lexer": "ipython3",
   "version": "3.6.9"
  }
 },
 "nbformat": 4,
 "nbformat_minor": 4
}
